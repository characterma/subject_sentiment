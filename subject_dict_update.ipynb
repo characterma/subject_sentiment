{
 "cells": [
  {
   "cell_type": "code",
   "execution_count": 1,
   "id": "be76fad6-42ba-4fad-8e1d-935eb282e294",
   "metadata": {
    "tags": []
   },
   "outputs": [],
   "source": [
    "import pandas as pd\n",
    "import json"
   ]
  },
  {
   "cell_type": "code",
   "execution_count": 2,
   "id": "2d47ff56-9244-4398-b289-6004a245c61e",
   "metadata": {
    "tags": []
   },
   "outputs": [
    {
     "data": {
      "text/plain": [
       "206"
      ]
     },
     "execution_count": 2,
     "metadata": {},
     "output_type": "execute_result"
    }
   ],
   "source": [
    "processed_subject_keyword_dict = json.load(open(\"/workspace/sentiment/data/processed_dict_subj_medical_aesthetics_updated.json\", 'r'))\n",
    "processed_subject_keyword_dict.__len__()"
   ]
  },
  {
   "cell_type": "code",
   "execution_count": 3,
   "id": "880b171a-a0f0-4c41-8a67-a21dbc041304",
   "metadata": {
    "tags": []
   },
   "outputs": [],
   "source": [
    "dict_new_word_df = pd.read_excel(\"/workspace/sentiment/data/主题情感模型词典补充关键词+补打情感模型数据-0326.xlsx\", sheet_name=\"主体情感模型词典补充关键词及品牌\")\n"
   ]
  },
  {
   "cell_type": "code",
   "execution_count": 4,
   "id": "e24d9e0e-b9c8-4576-8653-389ad33ef2e6",
   "metadata": {
    "tags": []
   },
   "outputs": [
    {
     "data": {
      "text/html": [
       "<div>\n",
       "<style scoped>\n",
       "    .dataframe tbody tr th:only-of-type {\n",
       "        vertical-align: middle;\n",
       "    }\n",
       "\n",
       "    .dataframe tbody tr th {\n",
       "        vertical-align: top;\n",
       "    }\n",
       "\n",
       "    .dataframe thead th {\n",
       "        text-align: right;\n",
       "    }\n",
       "</style>\n",
       "<table border=\"1\" class=\"dataframe\">\n",
       "  <thead>\n",
       "    <tr style=\"text-align: right;\">\n",
       "      <th></th>\n",
       "      <th>是否在词典中</th>\n",
       "      <th>subject3</th>\n",
       "      <th>主体情感关键词脚本</th>\n",
       "      <th>补充关键词</th>\n",
       "      <th>需要补打数据</th>\n",
       "      <th>1-2月需要重新打标情感的数据：1月份爱塑美（艾塑菲）+2月份爱塑美（艾塑菲）、柏丽（保柔缇）、bellafill、乐菲颜、海魅云镜、harmony ca、得美颜</th>\n",
       "    </tr>\n",
       "  </thead>\n",
       "  <tbody>\n",
       "    <tr>\n",
       "      <th>0</th>\n",
       "      <td>已有</td>\n",
       "      <td>减肥针</td>\n",
       "      <td>\"减肥针\": [{\"id\": \"103\", \"kws\": [\"*减肥针*\", \"减肥针\"]...</td>\n",
       "      <td>Ozempic、tirzepatide、贝那鲁肽、玛仕度肽、司美格鲁肽、替尔泊肽、菲塑美、利...</td>\n",
       "      <td>NaN</td>\n",
       "      <td>NaN</td>\n",
       "    </tr>\n",
       "    <tr>\n",
       "      <th>1</th>\n",
       "      <td>已有</td>\n",
       "      <td>爱塑美</td>\n",
       "      <td>\"爱塑美\": [{\"id\": \"99\", \"kws\": [\"*爱塑美*\", \"AESTHE...</td>\n",
       "      <td>艾塑菲</td>\n",
       "      <td>补打</td>\n",
       "      <td>NaN</td>\n",
       "    </tr>\n",
       "    <tr>\n",
       "      <th>2</th>\n",
       "      <td>已有</td>\n",
       "      <td>柏丽</td>\n",
       "      <td>\"柏丽\": [{\"id\": \"30\", \"kws\": [\"*BELOTERO*\", \"*柏...</td>\n",
       "      <td>保柔缇</td>\n",
       "      <td>补打</td>\n",
       "      <td>NaN</td>\n",
       "    </tr>\n",
       "    <tr>\n",
       "      <th>3</th>\n",
       "      <td>已有</td>\n",
       "      <td>双美胶原蛋白</td>\n",
       "      <td>\"双美胶原蛋白\": [{\"id\": \"55\", \"kws\": [\"*SUNMAX*\", \"...</td>\n",
       "      <td>肤柔美、肤莱美、肤丽美</td>\n",
       "      <td>补打</td>\n",
       "      <td>NaN</td>\n",
       "    </tr>\n",
       "    <tr>\n",
       "      <th>4</th>\n",
       "      <td>已有</td>\n",
       "      <td>海魅云镜</td>\n",
       "      <td>\"海魅云镜\": [{\"id\": 202, \"kws\": [\"*海魅云镜*\", \"海魅云镜\"...</td>\n",
       "      <td>海魅云境</td>\n",
       "      <td>补打</td>\n",
       "      <td>NaN</td>\n",
       "    </tr>\n",
       "  </tbody>\n",
       "</table>\n",
       "</div>"
      ],
      "text/plain": [
       "  是否在词典中 subject3                                          主体情感关键词脚本  \\\n",
       "0     已有      减肥针   \"减肥针\": [{\"id\": \"103\", \"kws\": [\"*减肥针*\", \"减肥针\"]...   \n",
       "1     已有      爱塑美   \"爱塑美\": [{\"id\": \"99\", \"kws\": [\"*爱塑美*\", \"AESTHE...   \n",
       "2     已有       柏丽   \"柏丽\": [{\"id\": \"30\", \"kws\": [\"*BELOTERO*\", \"*柏...   \n",
       "3     已有   双美胶原蛋白   \"双美胶原蛋白\": [{\"id\": \"55\", \"kws\": [\"*SUNMAX*\", \"...   \n",
       "4     已有     海魅云镜   \"海魅云镜\": [{\"id\": 202, \"kws\": [\"*海魅云镜*\", \"海魅云镜\"...   \n",
       "\n",
       "                                               补充关键词 需要补打数据  \\\n",
       "0  Ozempic、tirzepatide、贝那鲁肽、玛仕度肽、司美格鲁肽、替尔泊肽、菲塑美、利...    NaN   \n",
       "1                                                艾塑菲     补打   \n",
       "2                                                保柔缇     补打   \n",
       "3                                        肤柔美、肤莱美、肤丽美     补打   \n",
       "4                                               海魅云境     补打   \n",
       "\n",
       "   1-2月需要重新打标情感的数据：1月份爱塑美（艾塑菲）+2月份爱塑美（艾塑菲）、柏丽（保柔缇）、bellafill、乐菲颜、海魅云镜、harmony ca、得美颜  \n",
       "0                                                NaN                                  \n",
       "1                                                NaN                                  \n",
       "2                                                NaN                                  \n",
       "3                                                NaN                                  \n",
       "4                                                NaN                                  "
      ]
     },
     "execution_count": 4,
     "metadata": {},
     "output_type": "execute_result"
    }
   ],
   "source": [
    "dict_new_word_df.head()"
   ]
  },
  {
   "cell_type": "code",
   "execution_count": 5,
   "id": "1df7dd4d-fd6c-48b6-a682-098997ff860e",
   "metadata": {
    "tags": []
   },
   "outputs": [
    {
     "data": {
      "text/plain": [
       "是否在词典中\n",
       "已有    23\n",
       "新增    10\n",
       "Name: count, dtype: int64"
      ]
     },
     "execution_count": 5,
     "metadata": {},
     "output_type": "execute_result"
    }
   ],
   "source": [
    "dict_new_word_df['是否在词典中'].value_counts()"
   ]
  },
  {
   "cell_type": "code",
   "execution_count": 6,
   "id": "d31f8681-508d-415e-ac86-0b488af8fe55",
   "metadata": {
    "tags": []
   },
   "outputs": [
    {
     "data": {
      "text/html": [
       "<div>\n",
       "<style scoped>\n",
       "    .dataframe tbody tr th:only-of-type {\n",
       "        vertical-align: middle;\n",
       "    }\n",
       "\n",
       "    .dataframe tbody tr th {\n",
       "        vertical-align: top;\n",
       "    }\n",
       "\n",
       "    .dataframe thead th {\n",
       "        text-align: right;\n",
       "    }\n",
       "</style>\n",
       "<table border=\"1\" class=\"dataframe\">\n",
       "  <thead>\n",
       "    <tr style=\"text-align: right;\">\n",
       "      <th></th>\n",
       "      <th>是否在词典中</th>\n",
       "      <th>subject3</th>\n",
       "      <th>主体情感关键词脚本</th>\n",
       "      <th>补充关键词</th>\n",
       "      <th>需要补打数据</th>\n",
       "      <th>1-2月需要重新打标情感的数据：1月份爱塑美（艾塑菲）+2月份爱塑美（艾塑菲）、柏丽（保柔缇）、bellafill、乐菲颜、海魅云镜、harmony ca、得美颜</th>\n",
       "    </tr>\n",
       "  </thead>\n",
       "  <tbody>\n",
       "    <tr>\n",
       "      <th>23</th>\n",
       "      <td>新增</td>\n",
       "      <td>Harmony Ca</td>\n",
       "      <td>NaN</td>\n",
       "      <td>乔雅登少女针、乔雅登天使针、美神针、Harmony Ca、HArmonyCa、HARMONY...</td>\n",
       "      <td>补打</td>\n",
       "      <td>NaN</td>\n",
       "    </tr>\n",
       "    <tr>\n",
       "      <th>24</th>\n",
       "      <td>新增</td>\n",
       "      <td>润娜塔</td>\n",
       "      <td>NaN</td>\n",
       "      <td>润娜塔、RENATA、RENATAPLLA</td>\n",
       "      <td>NaN</td>\n",
       "      <td>NaN</td>\n",
       "    </tr>\n",
       "    <tr>\n",
       "      <th>25</th>\n",
       "      <td>新增</td>\n",
       "      <td>法薇雅</td>\n",
       "      <td>NaN</td>\n",
       "      <td>法薇雅</td>\n",
       "      <td>NaN</td>\n",
       "      <td>NaN</td>\n",
       "    </tr>\n",
       "    <tr>\n",
       "      <th>26</th>\n",
       "      <td>新增</td>\n",
       "      <td>泰奥PCL双美胶原</td>\n",
       "      <td>NaN</td>\n",
       "      <td>泰奥、Taewo、TEOXANE</td>\n",
       "      <td>NaN</td>\n",
       "      <td>NaN</td>\n",
       "    </tr>\n",
       "    <tr>\n",
       "      <th>27</th>\n",
       "      <td>新增</td>\n",
       "      <td>ARSMO玻尿酸</td>\n",
       "      <td>NaN</td>\n",
       "      <td>ARSMO</td>\n",
       "      <td>NaN</td>\n",
       "      <td>NaN</td>\n",
       "    </tr>\n",
       "    <tr>\n",
       "      <th>28</th>\n",
       "      <td>新增</td>\n",
       "      <td>露凯莉少女胶原</td>\n",
       "      <td>NaN</td>\n",
       "      <td>露凯莉、LUKAILI、露凯莉少女胶原</td>\n",
       "      <td>NaN</td>\n",
       "      <td>NaN</td>\n",
       "    </tr>\n",
       "    <tr>\n",
       "      <th>29</th>\n",
       "      <td>新增</td>\n",
       "      <td>心辰</td>\n",
       "      <td>NaN</td>\n",
       "      <td>心辰</td>\n",
       "      <td>NaN</td>\n",
       "      <td>NaN</td>\n",
       "    </tr>\n",
       "    <tr>\n",
       "      <th>30</th>\n",
       "      <td>新增</td>\n",
       "      <td>优泊妍</td>\n",
       "      <td>NaN</td>\n",
       "      <td>YOUPOYAN、优泊妍</td>\n",
       "      <td>NaN</td>\n",
       "      <td>NaN</td>\n",
       "    </tr>\n",
       "    <tr>\n",
       "      <th>31</th>\n",
       "      <td>新增</td>\n",
       "      <td>普丽赫</td>\n",
       "      <td>NaN</td>\n",
       "      <td>普丽赫、PURIHP</td>\n",
       "      <td>NaN</td>\n",
       "      <td>NaN</td>\n",
       "    </tr>\n",
       "    <tr>\n",
       "      <th>32</th>\n",
       "      <td>新增</td>\n",
       "      <td>铂珮缇</td>\n",
       "      <td>NaN</td>\n",
       "      <td>铂珮缇、铂佩缇、珀沛丽</td>\n",
       "      <td>NaN</td>\n",
       "      <td>NaN</td>\n",
       "    </tr>\n",
       "  </tbody>\n",
       "</table>\n",
       "</div>"
      ],
      "text/plain": [
       "   是否在词典中    subject3 主体情感关键词脚本  \\\n",
       "23     新增  Harmony Ca       NaN   \n",
       "24     新增         润娜塔       NaN   \n",
       "25     新增         法薇雅       NaN   \n",
       "26     新增   泰奥PCL双美胶原       NaN   \n",
       "27     新增    ARSMO玻尿酸       NaN   \n",
       "28     新增     露凯莉少女胶原       NaN   \n",
       "29     新增          心辰       NaN   \n",
       "30     新增         优泊妍       NaN   \n",
       "31     新增         普丽赫       NaN   \n",
       "32     新增         铂珮缇       NaN   \n",
       "\n",
       "                                                补充关键词 需要补打数据  \\\n",
       "23  乔雅登少女针、乔雅登天使针、美神针、Harmony Ca、HArmonyCa、HARMONY...     补打   \n",
       "24                              润娜塔、RENATA、RENATAPLLA    NaN   \n",
       "25                                                法薇雅    NaN   \n",
       "26                                   泰奥、Taewo、TEOXANE    NaN   \n",
       "27                                              ARSMO    NaN   \n",
       "28                                露凯莉、LUKAILI、露凯莉少女胶原    NaN   \n",
       "29                                                 心辰    NaN   \n",
       "30                                       YOUPOYAN、优泊妍    NaN   \n",
       "31                                         普丽赫、PURIHP    NaN   \n",
       "32                                        铂珮缇、铂佩缇、珀沛丽    NaN   \n",
       "\n",
       "    1-2月需要重新打标情感的数据：1月份爱塑美（艾塑菲）+2月份爱塑美（艾塑菲）、柏丽（保柔缇）、bellafill、乐菲颜、海魅云镜、harmony ca、得美颜  \n",
       "23                                                NaN                                  \n",
       "24                                                NaN                                  \n",
       "25                                                NaN                                  \n",
       "26                                                NaN                                  \n",
       "27                                                NaN                                  \n",
       "28                                                NaN                                  \n",
       "29                                                NaN                                  \n",
       "30                                                NaN                                  \n",
       "31                                                NaN                                  \n",
       "32                                                NaN                                  "
      ]
     },
     "execution_count": 6,
     "metadata": {},
     "output_type": "execute_result"
    }
   ],
   "source": [
    "dict_new_word_df[dict_new_word_df['是否在词典中']=='新增']"
   ]
  },
  {
   "cell_type": "code",
   "execution_count": 13,
   "id": "7e139866-5322-44f5-8240-d8c831e572b2",
   "metadata": {
    "tags": []
   },
   "outputs": [
    {
     "name": "stdout",
     "output_type": "stream",
     "text": [
      "薇丽兰再生 [{'id': 201, 'kws': ['*薇丽兰*', '薇丽兰'], 'name': '薇丽兰再生'}]\n",
      "海魅云镜 [{'id': 202, 'kws': {'海魅云境', '海魅云镜', '*海魅云镜*', '*海魅云境*', '**海魅云镜**'}, 'name': '海魅云镜'}]\n",
      "赫伊兰 [{'id': 203, 'kws': ['*赫伊兰*', '*HERiiAN*', '赫伊兰', 'HERiiAN'], 'name': '赫伊兰'}]\n",
      "NOVABONE [{'id': 204, 'kws': ['*NOVABONE*', '*美骨针*', 'NOVABONE', '美骨针'], 'name': 'NOVABONE'}]\n",
      "励然粒子 [{'id': 205, 'kws': ['*励然粒子*', '*丽子针*', '励然粒子', '丽子针'], 'name': '励然粒子'}]\n",
      "Bellafill [{'id': 206, 'kws': {'**Bellafill**', 'Bellafill', '*贝丽菲尔*', '*Bellafill*', '贝丽菲尔'}, 'name': 'Bellafill'}]\n",
      "Harmony Ca [{'id': 207, 'kws': {'**Harmony Ca**', '乔雅登少女针', '*Harmony Ca*', '*HArmonyCa*', 'Harmony Ca', 'HArmonyCa', '*乔雅登少女针*', '*美神针*', '*HARMONY CA*', '*乔雅登天使针*', 'HARMONY CA', '美神针', '乔雅登天使针', '*HARMONYCA™*', 'HARMONYCA™'}, 'name': 'Harmony Ca'}]\n",
      "润娜塔 [{'id': 208, 'kws': {'**润娜塔**', '*润娜塔*', '润娜塔', '*RENATAPLLA*', 'RENATAPLLA', 'RENATA', '*RENATA*'}, 'name': '润娜塔'}]\n",
      "法薇雅 [{'id': 209, 'kws': {'**法薇雅**', '*法薇雅*', '法薇雅'}, 'name': '法薇雅'}]\n",
      "泰奥PCL双美胶原 [{'id': 210, 'kws': {'*Taewo*', '**泰奥PCL双美胶原**', 'Taewo', '*泰奥*', 'TEOXANE', '*TEOXANE*', '泰奥PCL双美胶原', '*泰奥PCL双美胶原*', '泰奥'}, 'name': '泰奥PCL双美胶原'}]\n",
      "ARSMO玻尿酸 [{'id': 211, 'kws': {'*ARSMO玻尿酸*', '*ARSMO*', 'ARSMO玻尿酸', 'ARSMO', '**ARSMO玻尿酸**'}, 'name': 'ARSMO玻尿酸'}]\n",
      "露凯莉少女胶原 [{'id': 212, 'kws': {'*LUKAILI*', '露凯莉少女胶原', '**露凯莉少女胶原**', '露凯莉', '*露凯莉*', 'LUKAILI', '*露凯莉少女胶原*'}, 'name': '露凯莉少女胶原'}]\n",
      "心辰 [{'id': 213, 'kws': {'心辰', '**心辰**', '*心辰*'}, 'name': '心辰'}]\n",
      "优泊妍 [{'id': 214, 'kws': {'优泊妍', '*优泊妍*', '*YOUPOYAN*', 'YOUPOYAN', '**优泊妍**'}, 'name': '优泊妍'}]\n",
      "普丽赫 [{'id': 215, 'kws': {'PURIHP', '*普丽赫*', '**普丽赫**', '普丽赫', '*PURIHP*'}, 'name': '普丽赫'}]\n",
      "铂珮缇 [{'id': 216, 'kws': {'铂珮缇', '*珀沛丽*', '*铂珮缇*', '珀沛丽', '*铂佩缇*', '铂佩缇', '**铂珮缇**'}, 'name': '铂珮缇'}]\n"
     ]
    }
   ],
   "source": [
    "for i, (k, v) in enumerate(update_subject_keyword_dict.items()):\n",
    "    if i > 200:\n",
    "        print(k,v)\n",
    "        # if v[0]['name'] == 'entity':\n",
    "        #     print(k, v)"
   ]
  },
  {
   "cell_type": "code",
   "execution_count": 15,
   "id": "6eb257a0-ae43-4932-8167-20caeeee810b",
   "metadata": {
    "tags": []
   },
   "outputs": [],
   "source": [
    "import copy\n",
    "def update_subject_keyword_dict_func(origin_subject_keyword_dict:dict, dict_new_word_df:pd.DataFrame):\n",
    "    # update_subject_keyword_dict = copy.copy(origin_subject_keyword_dict)\n",
    "    update_subject_keyword_dict = {}\n",
    "    for key, kws_info in origin_subject_keyword_dict.items():\n",
    "        kws_dict = kws_info[0]\n",
    "        if kws_dict['name'] == 'entity':\n",
    "            kws_dict['name'] = key\n",
    "        update_subject_keyword_dict[key] = [kws_dict]\n",
    "    \n",
    "    \n",
    "    new_add_id = origin_subject_keyword_dict.__len__()\n",
    "    for index, row in dict_new_word_df.iterrows():\n",
    "        key = row['subject3']\n",
    "        keywords = set(row['补充关键词'].split(\"、\")).union(set([key, f\"*{key}*\"]))\n",
    "        pattern_keywords = set([f\"*{wd}*\" for wd in keywords])\n",
    "        print(key, keywords.union(pattern_keywords))\n",
    "        if key in origin_subject_keyword_dict:\n",
    "            kws_info = origin_subject_keyword_dict[key][0]\n",
    "            update_kws = set(kws_info['kws']).union(keywords).union(pattern_keywords)\n",
    "            update_subject_keyword_dict[key] = [{\n",
    "                'id': kws_info['id'],\n",
    "                \"kws\": list(update_kws),\n",
    "                \"name\": key\n",
    "            }]\n",
    "        else:\n",
    "            update_kws = keywords.union(pattern_keywords)\n",
    "            update_subject_keyword_dict[key] = [{\n",
    "                'id': new_add_id,\n",
    "                \"kws\": list(update_kws),\n",
    "                \"name\": key\n",
    "            }]\n",
    "            new_add_id+=1\n",
    "    return update_subject_keyword_dict\n",
    "            \n",
    "            "
   ]
  },
  {
   "cell_type": "code",
   "execution_count": 16,
   "id": "72fcae4f-1e6a-4343-a5f1-8b7e71d0357b",
   "metadata": {
    "tags": []
   },
   "outputs": [
    {
     "name": "stdout",
     "output_type": "stream",
     "text": [
      "减肥针 {'*艾本那肽*', '*Ozempic*', 'TG103', '减肥针', '*tirzepatide*', '**减肥针**', '玛仕度肽', '*替尔泊肽*', '*度拉糖肽*', '*苏帕鲁肽*', '度拉糖肽', '*GZR18*', '菲塑美', 'Ozempic', '*聚乙二醇化艾塞那肽*', '*Mazdutide*', 'GZR18', '*减肥针*', '利拉鲁肽', 'tirzepatide', '司美格鲁肽', '*贝那鲁肽*', '*格鲁塔株单抗*', '*菲塑美*', '*Survodutide*', '艾本那肽', '*TG103*', '*IBI362*', '替尔泊肽', '*利拉鲁肽*', 'Mazdutide', '格鲁塔株单抗', '*诺利糖肽*', 'IBI362', '苏帕鲁肽', '贝那鲁肽', '诺利糖肽', 'Survodutide', '*司美格鲁肽*', '*玛仕度肽*', '聚乙二醇化艾塞那肽'}\n",
      "爱塑美 {'艾塑菲', '**爱塑美**', '*艾塑菲*', '爱塑美', '*爱塑美*'}\n",
      "柏丽 {'保柔缇', '*保柔缇*', '**柏丽**', '*柏丽*', '柏丽'}\n",
      "双美胶原蛋白 {'肤莱美', '*肤丽美*', '双美胶原蛋白', '肤丽美', '**双美胶原蛋白**', '肤柔美', '*双美胶原蛋白*', '*肤莱美*', '*肤柔美*'}\n",
      "海魅云镜 {'海魅云境', '海魅云镜', '*海魅云镜*', '*海魅云境*', '**海魅云镜**'}\n",
      "乔雅登 {'**乔雅登**', '朔颜', '*SKINVIVE*', '*越致*', '*乔6*', 'SKINVIVE', '*乔雅登*', '*Juvederm*', '*volux*', '乔雅登', 'volux', '*盈致*', '盈致', '越致', '乔6', 'Juvederm', '*朔颜*'}\n",
      "塑然雅 {'塑然雅', '**塑然雅**', '*塑妍萃*', '塑颜萃', '塑妍萃', '*塑颜萃*', '舒颜萃', '*舒颜萃*', '*塑然雅*'}\n",
      "润致 {'*润致*', '*格格针*', '润致', '**润致**', '格格针'}\n",
      "Bellafill {'**Bellafill**', 'Bellafill', '*贝丽菲尔*', '*Bellafill*', '贝丽菲尔'}\n",
      "乐菲颜 {'**乐菲颜**', '乐菲颜', '*铂安润*', '铂安润', '*乐菲颜*'}\n",
      "得美颜 {'**得美颜**', '*得美妍*', 'derma veil', '*得美颜*', '*derma veil*', '得美妍', '得美颜'}\n",
      "瑞蓝 {'丰采', '*丰采*', '*VOLYME*', '*瑞蓝*', 'VOLYME', '**瑞蓝**', '*Defyne*', 'Defyne', '瑞蓝'}\n",
      "冭活 {'*泡泡针*', '**冭活**', '太活泡泡', '夳活', '*太活泡泡*', '泡泡针', '冭活', '*态活*', '态活', '*冭活*', '*夳活*'}\n",
      "悦白之几 {'*悦十七*', '悦十七', '悦白之几', '**悦白之几**', '悦17', '*悦白之几*', '*悦17*'}\n",
      "希尔敏 {'*希尔敏*', '*思奥美*', '**希尔敏**', '希尔敏', '思奥美'}\n",
      "赛罗菲 {'赛罗菲', '*赛罗菲*', '赛洛菲', '*赛洛菲*', '**赛罗菲**'}\n",
      "莫娜丽莎 {'蒙娜丽莎', '莫娜丽莎', '**莫娜丽莎**', '*莫娜丽莎*', '*蒙娜丽莎*'}\n",
      "达希斐 {'*达希斐*', 'DaxibotulinumtoxinA', '达希斐', '**达希斐**', '*DaxibotulinumtoxinA*'}\n",
      "白鲸薇光 {'白鲸微光', '*白鲸微光*', '**白鲸薇光**', '白鲸薇光', '*白鲸薇光*'}\n",
      "爱丽薇 {'爱丽薇', '*艾莉薇*', '艾丽薇', '*艾丽薇*', '*爱丽薇*', '艾莉薇', '**爱丽薇**'}\n",
      "泰拉菲尔 {'*泰拉菲尔*', '*LUCIZEN*', '泰拉斐尔', 'TheraFill', '泰拉菲尔', 'LUCIZEN', '**泰拉菲尔**', '*TheraFill*', '*泰拉斐尔*'}\n",
      "海雅美 {'*海维纳斯®海π*', '海雅美', '*海维纳斯*', '*Hyamax*', '海维纳斯海π', '*海维纳斯海π*', '*海雅美*', '海维纳斯', '海维纳斯®海π', '**海雅美**', 'Hyamax'}\n",
      "维壹美 {'嘭嘭针', '维壹美', '*嘭嘭针*', '*维壹美*', '**维壹美**'}\n",
      "Harmony Ca {'**Harmony Ca**', '乔雅登少女针', '*Harmony Ca*', '*HArmonyCa*', 'Harmony Ca', 'HArmonyCa', '*乔雅登少女针*', '*美神针*', '*HARMONY CA*', '*乔雅登天使针*', 'HARMONY CA', '美神针', '乔雅登天使针', '*HARMONYCA™*', 'HARMONYCA™'}\n",
      "润娜塔 {'**润娜塔**', '*润娜塔*', '润娜塔', '*RENATAPLLA*', 'RENATAPLLA', 'RENATA', '*RENATA*'}\n",
      "法薇雅 {'**法薇雅**', '*法薇雅*', '法薇雅'}\n",
      "泰奥PCL双美胶原 {'*Taewo*', '**泰奥PCL双美胶原**', 'Taewo', '*泰奥*', 'TEOXANE', '*TEOXANE*', '泰奥PCL双美胶原', '*泰奥PCL双美胶原*', '泰奥'}\n",
      "ARSMO玻尿酸 {'*ARSMO玻尿酸*', '*ARSMO*', 'ARSMO玻尿酸', 'ARSMO', '**ARSMO玻尿酸**'}\n",
      "露凯莉少女胶原 {'*LUKAILI*', '露凯莉少女胶原', '**露凯莉少女胶原**', '露凯莉', '*露凯莉*', 'LUKAILI', '*露凯莉少女胶原*'}\n",
      "心辰 {'心辰', '**心辰**', '*心辰*'}\n",
      "优泊妍 {'优泊妍', '*优泊妍*', '*YOUPOYAN*', 'YOUPOYAN', '**优泊妍**'}\n",
      "普丽赫 {'PURIHP', '*普丽赫*', '**普丽赫**', '普丽赫', '*PURIHP*'}\n",
      "铂珮缇 {'铂珮缇', '*珀沛丽*', '*铂珮缇*', '珀沛丽', '*铂佩缇*', '铂佩缇', '**铂珮缇**'}\n"
     ]
    }
   ],
   "source": [
    "update_subject_keyword_dict = update_subject_keyword_dict_func(processed_subject_keyword_dict, dict_new_word_df)"
   ]
  },
  {
   "cell_type": "code",
   "execution_count": 17,
   "id": "92ca335a-4117-4874-ae73-199bd32af1a7",
   "metadata": {
    "tags": []
   },
   "outputs": [
    {
     "data": {
      "text/plain": [
       "217"
      ]
     },
     "execution_count": 17,
     "metadata": {},
     "output_type": "execute_result"
    }
   ],
   "source": [
    "update_subject_keyword_dict.__len__()"
   ]
  },
  {
   "cell_type": "code",
   "execution_count": 18,
   "id": "faee7f43-eabb-4745-8fae-40f9afe07069",
   "metadata": {
    "tags": []
   },
   "outputs": [
    {
     "data": {
      "text/plain": [
       "206"
      ]
     },
     "execution_count": 18,
     "metadata": {},
     "output_type": "execute_result"
    }
   ],
   "source": [
    "processed_subject_keyword_dict.__len__()"
   ]
  },
  {
   "cell_type": "code",
   "execution_count": 19,
   "id": "5f2008a3-f0a3-4f4f-ba20-0b406401707a",
   "metadata": {
    "tags": []
   },
   "outputs": [],
   "source": [
    "json.dump(update_subject_keyword_dict, open(\"/workspace/sentiment/data/subj_medical_aesthetics_20250327.json\", 'w', encoding='utf-8'), ensure_ascii=False)"
   ]
  },
  {
   "cell_type": "code",
   "execution_count": null,
   "id": "6b299389-2037-4d57-81a2-8c7ad78cf587",
   "metadata": {},
   "outputs": [],
   "source": []
  }
 ],
 "metadata": {
  "kernelspec": {
   "display_name": "Python 3 (ipykernel)",
   "language": "python",
   "name": "python3"
  },
  "language_info": {
   "codemirror_mode": {
    "name": "ipython",
    "version": 3
   },
   "file_extension": ".py",
   "mimetype": "text/x-python",
   "name": "python",
   "nbconvert_exporter": "python",
   "pygments_lexer": "ipython3",
   "version": "3.8.12"
  }
 },
 "nbformat": 4,
 "nbformat_minor": 5
}
