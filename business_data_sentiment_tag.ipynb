{
 "cells": [
  {
   "cell_type": "code",
   "execution_count": 3,
   "id": "807598bf-c390-4e7a-945a-6594446212e3",
   "metadata": {
    "tags": []
   },
   "outputs": [],
   "source": [
    "from ailabuap.io.api_caller import APICaller\n",
    "import warnings\n",
    "warnings.filterwarnings(\"ignore\")\n",
    "import pandas as pd\n",
    "from ailabuap.transformer import (\n",
    "    SimpleDeDupTransformer, \n",
    "    FuzzyDedupTransformer, \n",
    "    SimHashDedupTransformer,\n",
    "    MinHashDeDupTransformer,\n",
    "    SemanticDedupTransformer\n",
    ")\n",
    "import json\n",
    "import tqdm\n",
    "from data_preparation.utils.subj_sentence import TargetSentencesConcatenated\n",
    "from data_preparation.utils.subj_sentence._subj_util import *\n"
   ]
  },
  {
   "cell_type": "code",
   "execution_count": 4,
   "id": "e8b3f26a-096f-4781-a441-b3633885ac01",
   "metadata": {
    "tags": []
   },
   "outputs": [
    {
     "data": {
      "text/plain": [
       "((111605, 51),\n",
       " Index(['ID', 'doc_id', 'subject1', 'subject2', 'subject3', 'quarter', 'month',\n",
       "        'subject_keyword', 'pubdate', 'pubdate_full', 'pubtype', 'pubname',\n",
       "        '六社媒', 'pubcode', 'author', 'src_author_id', '医美查', 'headline', 'body',\n",
       "        'url', 'doc_num_of_collect', 'doc_num_of_comment', 'doc_num_of_forward',\n",
       "        'doc_num_of_like', 'WOW', 'doc_num_of_read', 'fans', 'verified',\n",
       "        'is_used_check', 'is_used', 'reject_word', 'valid_word',\n",
       "        'effective_word', 'wa_type', 'kol_name', 'engagement_cnt',\n",
       "        'influence_cnt', 'kol_name_check', 'koc_name_check', 'koc_type',\n",
       "        'hospital', 'chain', 'institution_flag', 'dr_flag', 'profile_url',\n",
       "        'description', 'topic1', 'topic1_score', 'topic2', 'topic2_score',\n",
       "        '数据来源'],\n",
       "       dtype='object'))"
      ]
     },
     "execution_count": 4,
     "metadata": {},
     "output_type": "execute_result"
    }
   ],
   "source": [
    "# path = \"./data/202401&02定稿数据_追加水军_v1.0.xlsx\"\n",
    "# path = \"./data/202403_2818brands&图像识别定稿-- 待打标水军20240408 1.xlsx\"\n",
    "# path = \"./data/2024Q2-乔雅登品牌数据.xlsx\"\n",
    "# path = \"./data/2024Q2-其他品牌数据-0710.xlsx\"\n",
    "# path = \"./202407_乔雅登品牌数据_待情感打标-0814.xlsx\"\n",
    "# path = \"./202408_乔雅登品牌数据_待情感打标-0910.xlsx\"\n",
    "# path = \"./data/202407-08-aller_2818brands&图像识别--待跑主体情感模型-0923.xlsx\"\n",
    "# path = \"/workspace/sentiment/2023Q4填充剂刷新情感.xlsx\"\n",
    "# path = \"/workspace/sentiment/202409-aller_2818brands&图像识别定稿--待跑情感.xlsx\"\n",
    "# path = \"/workspace/sentiment/aller_2818brands&图像识别定稿--202411.xlsx\"\n",
    "# path = \"/workspace/sentiment/aller_monthly_report_2818_dae底单数据202411（含新增品牌）.xlsx\"\n",
    "\n",
    "# path = \"/workspace/sentiment/data/aller_2818brands&图像识别定稿--202501-待跑情感.xlsx\"\n",
    "\n",
    "path = \"/workspace/sentiment/data/202412-品牌定稿--补充小红书-未更新互动.xlsx\"\n",
    "path = \"/workspace/sentiment/data/aller_monthly_report_2818_dae底单数据202501 (1).xlsx\"\n",
    "path = \"/workspace/sentiment/data/202502-aller_2818brands&图像识别定稿--20250311待打标情感.xlsx\"\n",
    "\n",
    "\n",
    "data = pd.read_excel(path)\n",
    "data.shape,data.columns"
   ]
  },
  {
   "cell_type": "code",
   "execution_count": 5,
   "id": "38eb9eb3-6432-4b21-ba7e-601685cc3228",
   "metadata": {
    "tags": []
   },
   "outputs": [
    {
     "data": {
      "text/plain": [
       "(96333, 51)"
      ]
     },
     "execution_count": 5,
     "metadata": {},
     "output_type": "execute_result"
    }
   ],
   "source": [
    "data = data[data['subject2']!=\"水光\"]\n",
    "data.shape"
   ]
  },
  {
   "cell_type": "markdown",
   "id": "0c1eb657-2c5c-41ed-93ac-42081d1d2283",
   "metadata": {},
   "source": [
    "# 因为同一篇文章可能包含多个主体，所以虽然内容相同，但是可能需要判断情感的主体不同，所以我们要重置docid保证每行的docid都不同"
   ]
  },
  {
   "cell_type": "code",
   "execution_count": 6,
   "id": "63c17d72-223e-4be3-98ae-4c9286d2894c",
   "metadata": {
    "tags": []
   },
   "outputs": [],
   "source": [
    "data['origin_doc_id'] = data['doc_id']\n",
    "data['doc_id'] = list(range(data.shape[0]))"
   ]
  },
  {
   "cell_type": "code",
   "execution_count": 7,
   "id": "f540b15e-b334-4fa6-b6b8-f14b2d3e33ab",
   "metadata": {
    "tags": []
   },
   "outputs": [
    {
     "data": {
      "text/plain": [
       "Index(['ID', 'doc_id', 'subject1', 'subject2', 'subject3', 'quarter', 'month',\n",
       "       'subject_keyword', 'pubdate', 'pubdate_full', 'pubtype', 'pubname',\n",
       "       '六社媒', 'pubcode', 'author', 'src_author_id', '医美查', 'headline', 'body',\n",
       "       'url', 'doc_num_of_collect', 'doc_num_of_comment', 'doc_num_of_forward',\n",
       "       'doc_num_of_like', 'WOW', 'doc_num_of_read', 'fans', 'verified',\n",
       "       'is_used_check', 'is_used', 'reject_word', 'valid_word',\n",
       "       'effective_word', 'wa_type', 'kol_name', 'engagement_cnt',\n",
       "       'influence_cnt', 'kol_name_check', 'koc_name_check', 'koc_type',\n",
       "       'hospital', 'chain', 'institution_flag', 'dr_flag', 'profile_url',\n",
       "       'description', 'topic1', 'topic1_score', 'topic2', 'topic2_score',\n",
       "       '数据来源', 'origin_doc_id'],\n",
       "      dtype='object')"
      ]
     },
     "execution_count": 7,
     "metadata": {},
     "output_type": "execute_result"
    }
   ],
   "source": [
    "data.columns"
   ]
  },
  {
   "cell_type": "code",
   "execution_count": 8,
   "id": "98281b3f-13f3-4a66-9aed-7d132b6d46d1",
   "metadata": {
    "tags": []
   },
   "outputs": [
    {
     "data": {
      "text/plain": [
       "[{'ID': 53260,\n",
       "  'doc_id': 0,\n",
       "  'subject1': '医美产品',\n",
       "  'subject2': '玻尿酸',\n",
       "  'subject3': '润致',\n",
       "  'quarter': '2025Q1',\n",
       "  'month': 202502,\n",
       "  'subject_keyword': '格格针',\n",
       "  'pubdate': '20250227',\n",
       "  'pubdate_full': '2025-02-27 09:49:22',\n",
       "  'pubtype': '微博',\n",
       "  'pubname': '新浪微博',\n",
       "  '六社媒': '有',\n",
       "  'pubcode': 'bg_m_sinacn',\n",
       "  'author': '老朱说真话',\n",
       "  'src_author_id': '2284317783',\n",
       "  '医美查': nan,\n",
       "  'headline': '🍶 【玉瓷面颈】项目赋能会暨广西格格针实操医师认证会2月25日📍格林美菲「格林美菲&华熙生物&润致」联合举办玉韵瓷颈·自成一格 \\u200b\\u200b',\n",
       "  'body': '🍶 【玉瓷面颈】项目赋能会\\n\\n暨广西格格针实操医师认证会\\n\\n2月25日📍格林美菲\\n\\n「格林美菲&华熙生物&润致」联合举办\\n\\n玉韵瓷颈·自成一格',\n",
       "  'url': 'http://weibo.com/2284317783/Pgc8Dgr3b',\n",
       "  'doc_num_of_collect': 0,\n",
       "  'doc_num_of_comment': 0,\n",
       "  'doc_num_of_forward': 0,\n",
       "  'doc_num_of_like': 0,\n",
       "  'WOW': nan,\n",
       "  'doc_num_of_read': 0,\n",
       "  'fans': 11664,\n",
       "  'verified': '黄V',\n",
       "  'is_used_check': '是',\n",
       "  'is_used': '否',\n",
       "  'reject_word': nan,\n",
       "  'valid_word': nan,\n",
       "  'effective_word': nan,\n",
       "  'wa_type': '微博',\n",
       "  'kol_name': 'PGC',\n",
       "  'engagement_cnt': 0,\n",
       "  'influence_cnt': 0,\n",
       "  'kol_name_check': 'PGC',\n",
       "  'koc_name_check': '医生',\n",
       "  'koc_type': '医生KOL',\n",
       "  'hospital': nan,\n",
       "  'chain': nan,\n",
       "  'institution_flag': nan,\n",
       "  'dr_flag': nan,\n",
       "  'profile_url': 'https://weibo.com/zgfplastic',\n",
       "  'description': '副主任医师，毕业于华中科技大学同济医学院，擅长胸部整形，鼻部整形，自体脂肪移植，面部精雕，眼部（双眼皮）整形。',\n",
       "  'topic1': '行业新闻',\n",
       "  'topic1_score': 0.9764377474784851,\n",
       "  'topic2': '品牌活动市场活动',\n",
       "  'topic2_score': 0.01544482633471489,\n",
       "  '数据来源': '2818表',\n",
       "  'origin_doc_id': '2cfc691aef619bb2212cbdc5c7f6a3e1'}]"
      ]
     },
     "execution_count": 8,
     "metadata": {},
     "output_type": "execute_result"
    }
   ],
   "source": [
    "data.head(1).to_dict('records')"
   ]
  },
  {
   "cell_type": "code",
   "execution_count": 9,
   "id": "c49ac500-f77c-4c25-bb78-3267084e0d39",
   "metadata": {},
   "outputs": [
    {
     "data": {
      "text/plain": [
       "((96333, 53),\n",
       " Index(['ID', 'doc_id', 'subject1', 'subject2', 'subject3', 'quarter', 'month',\n",
       "        'subject_keyword', 'pubdate', 'pubdate_full', 'pubtype', 'pubname',\n",
       "        '六社媒', 'pubcode', 'author', 'src_author_id', '医美查', 'headline', 'body',\n",
       "        'url', 'doc_num_of_collect', 'doc_num_of_comment', 'doc_num_of_forward',\n",
       "        'doc_num_of_like', 'WOW', 'doc_num_of_read', 'fans', 'verified',\n",
       "        'is_used_check', 'is_used', 'reject_word', 'valid_word',\n",
       "        'effective_word', 'wa_type', 'kol_name', 'engagement_cnt',\n",
       "        'influence_cnt', 'kol_name_check', 'koc_name_check', 'koc_type',\n",
       "        'hospital', 'chain', 'institution_flag', 'dr_flag', 'profile_url',\n",
       "        'description', 'topic1', 'topic1_score', 'topic2', 'topic2_score',\n",
       "        '数据来源', 'origin_doc_id', 'content'],\n",
       "       dtype='object'))"
      ]
     },
     "execution_count": 9,
     "metadata": {},
     "output_type": "execute_result"
    }
   ],
   "source": [
    "data.drop_duplicates(subset=['doc_id'], inplace=True)\n",
    "data['content'] = data.apply(lambda row: str(row['headline']).strip()+\",\"+str(row['body']).strip(), axis=1)\n",
    "\n",
    "# if \"body\" in data.columns:\n",
    "#     data.rename(columns={\"body\": \"content\"}, inplace=True)\n",
    "# data['content'] = data.apply(lambda row: str(row['headline'])+\",\"+str(row['content']), axis=1)\n",
    "data.shape, data.columns"
   ]
  },
  {
   "cell_type": "code",
   "execution_count": 10,
   "id": "b4c18430-af68-47e6-ad5d-4d411d88b78e",
   "metadata": {
    "tags": []
   },
   "outputs": [
    {
     "data": {
      "text/plain": [
       "206"
      ]
     },
     "execution_count": 10,
     "metadata": {},
     "output_type": "execute_result"
    }
   ],
   "source": [
    "processed_subject_keyword_dict = json.load(open(\"/workspace/sentiment/data/processed_dict_subj_medical_aesthetics_updated.json\", 'r'))\n",
    "processed_subject_keyword_dict.__len__()"
   ]
  },
  {
   "cell_type": "code",
   "execution_count": 11,
   "id": "6abc479b-5788-4478-9198-ad0131ed7de8",
   "metadata": {
    "tags": []
   },
   "outputs": [
    {
     "data": {
      "text/plain": [
       "(206, [{'id': 185, 'kws': ['*白鲸薇光*', '白鲸薇光'], 'name': '白鲸薇光'}])"
      ]
     },
     "execution_count": 11,
     "metadata": {},
     "output_type": "execute_result"
    }
   ],
   "source": [
    "processed_subject_keyword_dict.__len__(), processed_subject_keyword_dict['白鲸薇光']"
   ]
  },
  {
   "cell_type": "code",
   "execution_count": 12,
   "id": "febc9355-64d0-4be6-9217-982d07da17fe",
   "metadata": {
    "tags": []
   },
   "outputs": [],
   "source": [
    "# 添加关键词\n",
    "# processed_subject_keyword_dict['安然雅'] = [{\n",
    "#     \"id\": len(processed_subject_keyword_dict),\n",
    "#     'kws': [\n",
    "#         \"*安然雅*\",\n",
    "#         \"安然雅\",\n",
    "#         \"Eroya\",\n",
    "#         \"*Eroya*\"\n",
    "#     ],\n",
    "#     'name': '安然雅'\n",
    "# }]\n"
   ]
  },
  {
   "cell_type": "markdown",
   "id": "967da58f-af90-4a9d-97cd-b6cf0388a67c",
   "metadata": {
    "jp-MarkdownHeadingCollapsed": true,
    "tags": []
   },
   "source": [
    "# 添加缺失的主体词"
   ]
  },
  {
   "cell_type": "code",
   "execution_count": 13,
   "id": "329765a8-6713-4736-892e-0547ac90fe8f",
   "metadata": {
    "tags": []
   },
   "outputs": [],
   "source": [
    "need_add_subject_info = {\n",
    "    \"羽美\": [\"羽美\"],\n",
    "    \"泊沃林玻尿酸\": [\"泊沃林\"],\n",
    "    \"薇琳卓悦\": [\"卓悦\"],\n",
    "    \"梵希思\": [\"梵希思\", \"FANXISI\"],\n",
    "    \"希菲雅\": [\"希菲雅\", \"HYAFILIA\"],\n",
    "    \"哈颜\": [\"哈颜\"],\n",
    "    \"薇丽兰玻尿酸\": [\"薇丽兰\"],\n",
    "    \"薇丽兰胶原\": [\"薇丽兰\"],\n",
    "    \"新肤源\": [\"新肤源\"],\n",
    "    \"修丽可铂研\": [\"铂研\"],\n",
    "    \"海梦妮\": [\"海梦妮\", \"HELMONI\"],\n",
    "    \"赛罗菲\": [\"赛罗菲\"],\n",
    "    \"泊沃林胶原蛋白\": [\"泊沃林\"],\n",
    "    \"薇丽兰再生\": [\"薇丽兰\"],\n",
    "    \"海魅云镜\": [\"海魅云镜\"],\n",
    "    \"赫伊兰\": [\"赫伊兰\", \"HERiiAN\"],\n",
    "    \"NOVABONE\": [\"NOVABONE\", \"美骨针\"],\n",
    "    \"励然粒子\": [\"励然粒子\", \"丽子针\"]\n",
    "}"
   ]
  },
  {
   "cell_type": "code",
   "execution_count": 25,
   "id": "3f87a778-5aaf-4794-857f-da4853700380",
   "metadata": {
    "tags": []
   },
   "outputs": [],
   "source": [
    "max_num = 0\n",
    "for entity, info in processed_subject_keyword_dict.items():\n",
    "    # print(info)\n",
    "    if int(info[0]['id']) > max_num:\n",
    "        max_num = int(info[0]['id'])\n",
    "    "
   ]
  },
  {
   "cell_type": "code",
   "execution_count": 23,
   "id": "fcef95cc-b34b-43c6-b9f2-ec38a37f44bc",
   "metadata": {
    "tags": []
   },
   "outputs": [],
   "source": [
    "for entity, re_pattern in need_add_subject_info.items():\n",
    "    processed_subject_keyword_dict[entity] = [{\n",
    "        \"id\": len(processed_subject_keyword_dict),\n",
    "        \"kws\": [ f\"*{wd}*\" for wd in re_pattern] + [wd for wd in re_pattern],\n",
    "        'name': 'entity'\n",
    "    }]"
   ]
  },
  {
   "cell_type": "code",
   "execution_count": null,
   "id": "feaae24f-6e78-4f7f-a376-63f71a18febc",
   "metadata": {},
   "outputs": [],
   "source": [
    "json.dump(processed_subject_keyword_dict, open(\"/workspace/sentiment/data/processed_dict_subj_medical_aesthetics_updated.json\", 'w', encoding='utf-8'), ensure_ascii=False)"
   ]
  },
  {
   "cell_type": "code",
   "execution_count": 26,
   "id": "50569bed-0fed-48f1-b561-eaa1d9696f2f",
   "metadata": {
    "tags": []
   },
   "outputs": [
    {
     "data": {
      "text/plain": [
       "(205, 206)"
      ]
     },
     "execution_count": 26,
     "metadata": {},
     "output_type": "execute_result"
    }
   ],
   "source": [
    "max_num, len(processed_subject_keyword_dict)"
   ]
  },
  {
   "cell_type": "code",
   "execution_count": 27,
   "id": "03eb59ed-bf23-47aa-833d-3a6665926e1a",
   "metadata": {
    "tags": []
   },
   "outputs": [
    {
     "data": {
      "text/plain": [
       "{'羽美 '}"
      ]
     },
     "execution_count": 27,
     "metadata": {},
     "output_type": "execute_result"
    }
   ],
   "source": [
    "# 查看是否需要补充主体\n",
    "set([str(subject3).upper() for subject3 in data['subject3'].tolist()]) - set(processed_subject_keyword_dict.keys())"
   ]
  },
  {
   "cell_type": "code",
   "execution_count": 42,
   "id": "c7decf2b-e98b-4cad-9f79-be95831a5a56",
   "metadata": {
    "tags": []
   },
   "outputs": [
    {
     "data": {
      "text/plain": [
       "(2, 45)"
      ]
     },
     "execution_count": 42,
     "metadata": {},
     "output_type": "execute_result"
    }
   ],
   "source": [
    "data[data['subject3'].isin({'巴赫复欣', '露凯莉少女胶原'})].shape"
   ]
  },
  {
   "cell_type": "markdown",
   "id": "8346dc4d-65b3-48fd-8200-10bc5441fac2",
   "metadata": {},
   "source": [
    "# 开始主体抽取"
   ]
  },
  {
   "cell_type": "code",
   "execution_count": 13,
   "id": "ae33c699-0647-4dc3-bbaf-aad6f28e6799",
   "metadata": {
    "tags": []
   },
   "outputs": [],
   "source": [
    "subj_dict_url = 'http://ess24.wisers.com/res-comm/subject-extractor-api/processtext/subj_dict'\n",
    "subj_dict_url = \"http://aiapi.wisers.com/subject-extractor-api-mi/processtext/subj_dict\"\n",
    "subj_caller = APICaller(url=subj_dict_url, method='POST', timeout=100, retry_attempt=10)\n"
   ]
  },
  {
   "cell_type": "code",
   "execution_count": 14,
   "id": "d64e27af-321d-417b-838c-5b11cd45a057",
   "metadata": {
    "tags": []
   },
   "outputs": [
    {
     "data": {
      "text/plain": [
       "(96319, 14)"
      ]
     },
     "execution_count": 14,
     "metadata": {},
     "output_type": "execute_result"
    }
   ],
   "source": [
    "subj_post_data2 = []\n",
    "no_subject3_list = []\n",
    "for item in data.to_dict('records'):\n",
    "    subjects = processed_subject_keyword_dict.get(str(item['subject3']).upper())\n",
    "    if subjects is not None and item[\"content\"] is not None and str(item[\"content\"]).strip() != \"\":\n",
    "        post_data =  dict(\n",
    "            docid=item['doc_id'], \n",
    "            subjects=subjects,\n",
    "            content=str(item[\"content\"]), \n",
    "            is_sentence_linked=True,\n",
    "        )\n",
    "        subj_post_data2.append(dict(json=post_data))\n",
    "    else:\n",
    "        no_subject3_list.append(item['subject3'])\n",
    "\n",
    "len(subj_post_data2), len(no_subject3_list)"
   ]
  },
  {
   "cell_type": "code",
   "execution_count": 15,
   "id": "baec2a44-9818-4dfa-9ca1-03551e94fdde",
   "metadata": {
    "tags": []
   },
   "outputs": [
    {
     "data": {
      "text/plain": [
       "(14, 4)"
      ]
     },
     "execution_count": 15,
     "metadata": {},
     "output_type": "execute_result"
    }
   ],
   "source": [
    "no_subject3_list.__len__(), set(no_subject3_list).__len__()"
   ]
  },
  {
   "cell_type": "code",
   "execution_count": 16,
   "id": "deecdde8-1c7a-40ba-81c5-ab5f9c06c593",
   "metadata": {
    "tags": []
   },
   "outputs": [
    {
     "data": {
      "text/plain": [
       "(96319,\n",
       " {'json': {'docid': 1,\n",
       "   'subjects': [{'id': '8',\n",
       "     'kws': ['*JUVÉDERM*',\n",
       "      '*丰颜*',\n",
       "      '*乔1*',\n",
       "      '*乔2*',\n",
       "      '*乔3*',\n",
       "      '*乔4*',\n",
       "      '*乔5*',\n",
       "      '*乔亚登*',\n",
       "      '*乔雅登*',\n",
       "      '*乔雅登1号*',\n",
       "      '*乔雅登2号*',\n",
       "      '*乔雅登3号*',\n",
       "      '*乔雅登4号*',\n",
       "      '*乔雅登5号*',\n",
       "      '*极致*',\n",
       "      '*缇颜*',\n",
       "      '*质颜*',\n",
       "      '*雅致*',\n",
       "      'JUVEDERM',\n",
       "      'JUVÉDERM',\n",
       "      'ULTRA',\n",
       "      'ULTRAPLUS',\n",
       "      'ULTRA|PLUS',\n",
       "      'VOLBELLA',\n",
       "      'VOLIFT',\n",
       "      'VOLUMA',\n",
       "      '乔雅登'],\n",
       "     'name': '乔雅登'}],\n",
       "   'content': '✨乔雅登朔颜广西首秀✨ 下面部精雕专家,打造「折叠度美学」新境界 💎朱格非院长领衔注射天团 📆2月15日震撼上市,开启你的颜值革命🚀 [老朱说真话的微博视频](http://t.cn/A614nB7v),✨乔雅登朔颜广西首秀✨ 下面部精雕专家,打造「折叠度美学」新境界 💎朱格非院长领衔注射天团 📆2月15日震撼上市,开启你的颜值革命🚀 [老朱说真话的微博视频](http://t.cn/A614nB7v)',\n",
       "   'is_sentence_linked': True}})"
      ]
     },
     "execution_count": 16,
     "metadata": {},
     "output_type": "execute_result"
    }
   ],
   "source": [
    "subj_post_data2.__len__(), subj_post_data2[1]"
   ]
  },
  {
   "cell_type": "code",
   "execution_count": 17,
   "id": "71612d8b-6bf1-4a5f-9a52-6b5cf7ed0e77",
   "metadata": {
    "tags": []
   },
   "outputs": [],
   "source": [
    "subj_sentence_in_window = subj_caller.call_batch_async(subj_post_data2)\n"
   ]
  },
  {
   "cell_type": "code",
   "execution_count": 18,
   "id": "9f6ba5f2-1d49-4cb4-92cd-71e23d04f3ed",
   "metadata": {
    "tags": []
   },
   "outputs": [
    {
     "data": {
      "text/plain": [
       "(96006, 313)"
      ]
     },
     "execution_count": 18,
     "metadata": {},
     "output_type": "execute_result"
    }
   ],
   "source": [
    "subj_sentence_in_window.success.__len__(), subj_sentence_in_window.fail.__len__()"
   ]
  },
  {
   "cell_type": "code",
   "execution_count": 19,
   "id": "4a5fb01d-1d8a-4e8e-9f52-76c06dae9161",
   "metadata": {
    "tags": []
   },
   "outputs": [
    {
     "data": {
      "text/plain": [
       "{'status_code': 200,\n",
       " 'result': {'docid': '167',\n",
       "  'message': '',\n",
       "  'hl_subjs': [],\n",
       "  'ct_subjs': [{'id': '55',\n",
       "    'name': '双美胶原蛋白',\n",
       "    'type': '',\n",
       "    'kw_idxs': [[[277, 283]], [[814, 820]]],\n",
       "    'text_idxs': [[211, 369], [748, 906]]}]}}"
      ]
     },
     "execution_count": 19,
     "metadata": {},
     "output_type": "execute_result"
    }
   ],
   "source": [
    "subj_sentence_in_window.success[5]"
   ]
  },
  {
   "cell_type": "code",
   "execution_count": 20,
   "id": "578f5d65-e99c-449b-a669-925970d12c6f",
   "metadata": {
    "tags": []
   },
   "outputs": [
    {
     "data": {
      "text/plain": [
       "75617"
      ]
     },
     "execution_count": 20,
     "metadata": {},
     "output_type": "execute_result"
    }
   ],
   "source": [
    "subj_sentence_in_window_result = {item['result']['docid']: item['result']['ct_subjs'] for item in subj_sentence_in_window.success if item['result']['ct_subjs'].__len__() > 0}\n",
    "# subj_sentence_in_window_result = {item['result']['docid']: item['result']['ct_subjs'] for item in subj_sentence_in_window.success}\n",
    "\n",
    "subj_sentence_in_window_result.__len__()"
   ]
  },
  {
   "cell_type": "code",
   "execution_count": 21,
   "id": "595f5b64-4db1-4165-bbe5-e3de3a080d20",
   "metadata": {
    "tags": []
   },
   "outputs": [],
   "source": [
    "# 通过se的抽取结果，将包含主体的句子拼接在一起\n",
    "# def combine_include_subject_sentence(data, subj_sentence_in_window_result):\n",
    "#     all_docid_include_subject_sentence = []\n",
    "#     for index, row in data.iterrows():\n",
    "#         docid2include_subject_sentence = {}\n",
    "#         docid = row['doc_id']\n",
    "#         content = row['content']\n",
    "#         print(content)\n",
    "#         if docid not in docid2include_subject_sentence:\n",
    "#             docid2include_subject_sentence[\"doc_id\"] = docid\n",
    "#             if docid in subj_sentence_in_window_result:\n",
    "#                 for dic in subj_sentence_in_window_result[docid]:\n",
    "#                     print(dic, content[59: 62], content[106:109], content[120:123], content[582: 585])\n",
    "#                     docid2include_subject_sentence['subject'] = dic['name']\n",
    "#                     docid2include_subject_sentence['sentences'] = [content[s:e] for (s, e) in dic['text_idxs']]\n",
    "#         all_docid_include_subject_sentence.append(docid2include_subject_sentence)\n",
    "#     print(docid2include_subject_sentence)\n",
    "#     sentence_df = pd.DataFrame(docid2include_subject_sentence)\n",
    "#     sentence_df['sentence_merge'] = sentence_df['sentences'].map(lambda ls: \"。\".join(ls))\n",
    "#     return sentence_df\n",
    "                    \n",
    "        \n",
    "    "
   ]
  },
  {
   "cell_type": "code",
   "execution_count": 22,
   "id": "885b9a56-b41e-4773-b66d-f317f6ddd9b4",
   "metadata": {
    "tags": []
   },
   "outputs": [],
   "source": [
    "# combine_include_subject_sentence(data[data['doc_id']==docid], subj_sentence_in_window_result)"
   ]
  },
  {
   "cell_type": "markdown",
   "id": "e8c7de01-8020-4906-8db3-d35884d54f0f",
   "metadata": {},
   "source": [
    "# 抽取句子中的主体信息"
   ]
  },
  {
   "cell_type": "code",
   "execution_count": 23,
   "id": "b4f99de4-f46b-4bab-a542-ff3c7a7d8953",
   "metadata": {
    "tags": []
   },
   "outputs": [],
   "source": [
    "def get_include_subject_subsentence_through_SE_result(deduplication_content_df, dict_subj_resp1, processed_subject_keyword_dict):\n",
    "    sentences_data = []\n",
    "    for i in tqdm.tqdm(deduplication_content_df.to_dict('records')):\n",
    "        item = i.copy()\n",
    "        # print(item)\n",
    "        docid = str(item['doc_id'])\n",
    "        if docid in dict_subj_resp1:\n",
    "            se_res = dict(hl_subjs=[], ct_subjs=dict_subj_resp1[docid], docid=docid)\n",
    "            subj_dict = subject_post_process._parse_sentiment_keywords(processed_subject_keyword_dict[str(item['subject3']).upper()])\n",
    "            subj_dict = {str(k): v for k, v in subj_dict.items()}\n",
    "            # 此处必须要保证输入内容和抽取时的内容拼接是相同的\n",
    "            se_res_ = subject_post_process._convert_java_index(\n",
    "                dict(headline=\"\", content=str(item[\"content\"]), se_res=se_res, docid=docid), \n",
    "                \"se_res\", \"headline\", \"content\"\n",
    "            )\n",
    "            subj_sents = subject_sentences_util.get_subj_sentences('', str(item[\"content\"]), se_res_, subj_dict)\n",
    "            item_ = item.copy()\n",
    "            item_['subj_sent'] = subj_sents\n",
    "            sentences_data.append(item_)\n",
    "    return sentences_data"
   ]
  },
  {
   "cell_type": "code",
   "execution_count": 24,
   "id": "4ea7122e-1902-41d3-be52-3e074245cc48",
   "metadata": {
    "tags": []
   },
   "outputs": [],
   "source": [
    "# 将识别到的关键词通过特殊字符mask掉\n",
    "def mask_target_subject_word(sentence_output_columns, sentences_data):\n",
    "    sentences = []\n",
    "    for item in sentences_data:\n",
    "        for ent_id, sents in item[\"subj_sent\"].items():\n",
    "            for s in sents:\n",
    "                s.update({k: item[k] for k in sentence_output_columns})\n",
    "                s = normalize_target(s)\n",
    "                sentences.append(s)\n",
    "    sentences_df = pd.DataFrame(sentences)\n",
    "    print(sentences_df.shape)\n",
    "    return sentences_df"
   ]
  },
  {
   "cell_type": "code",
   "execution_count": 25,
   "id": "0cebce5f-2e04-4f1f-a4bf-ad9a529ae4b9",
   "metadata": {
    "tags": []
   },
   "outputs": [
    {
     "data": {
      "text/plain": [
       "75617"
      ]
     },
     "execution_count": 25,
     "metadata": {},
     "output_type": "execute_result"
    }
   ],
   "source": [
    "subj_sentence_in_window_result.__len__()"
   ]
  },
  {
   "cell_type": "code",
   "execution_count": 26,
   "id": "c9f480ee-11ae-4866-bc10-172c8df48b7d",
   "metadata": {
    "tags": []
   },
   "outputs": [
    {
     "data": {
      "text/plain": [
       "(75617, (96333, 53))"
      ]
     },
     "execution_count": 26,
     "metadata": {},
     "output_type": "execute_result"
    }
   ],
   "source": [
    "subj_sentence_in_window_result.__len__(), data.shape, "
   ]
  },
  {
   "cell_type": "code",
   "execution_count": 27,
   "id": "447b862f-3831-4fab-ade8-a2704be89bb2",
   "metadata": {
    "tags": []
   },
   "outputs": [
    {
     "name": "stderr",
     "output_type": "stream",
     "text": [
      "100%|██████████| 96333/96333 [01:08<00:00, 1407.28it/s]\n"
     ]
    }
   ],
   "source": [
    "sentences_data = get_include_subject_subsentence_through_SE_result(data, subj_sentence_in_window_result, processed_subject_keyword_dict)\n"
   ]
  },
  {
   "cell_type": "code",
   "execution_count": 28,
   "id": "96b87bca-1636-4662-a256-609ed9c84510",
   "metadata": {
    "tags": []
   },
   "outputs": [
    {
     "data": {
      "text/plain": [
       "[{'id': '8',\n",
       "  'name': '乔雅登',\n",
       "  'type': '',\n",
       "  'kw_idxs': [[[1677, 1680]], [[1794, 1797]]],\n",
       "  'text_idxs': [[1648, 1754], [1754, 1891]]}]"
      ]
     },
     "execution_count": 28,
     "metadata": {},
     "output_type": "execute_result"
    }
   ],
   "source": [
    "subj_sentence_in_window_result[list(subj_sentence_in_window_result.keys())[0]]"
   ]
  },
  {
   "cell_type": "code",
   "execution_count": 29,
   "id": "62622b06-5f6d-4588-a4c8-ff5325c8124c",
   "metadata": {
    "tags": []
   },
   "outputs": [
    {
     "data": {
      "text/plain": [
       "{'ID': 41079,\n",
       " 'doc_id': 21,\n",
       " 'subject1': '医美产品',\n",
       " 'subject2': '玻尿酸',\n",
       " 'subject3': '乔雅登',\n",
       " 'quarter': '2025Q1',\n",
       " 'month': 202502,\n",
       " 'subject_keyword': '朔颜,的,下颌线,了,下颌',\n",
       " 'pubdate': '20250206',\n",
       " 'pubdate_full': '2025-02-06 14:56:43',\n",
       " 'pubtype': '微信',\n",
       " 'pubname': '微信公众号',\n",
       " '六社媒': '无',\n",
       " 'pubcode': 'im_weixin',\n",
       " 'author': '六一和田玲',\n",
       " 'src_author_id': 'liuyihetianling_',\n",
       " '医美查': nan,\n",
       " 'headline': '【文末好礼】韩女又流行上“港风”了?比裴珠泫更tvb的女人…',\n",
       " 'body': '\\n\\n真没想到有一天能在韩国女团里,看到这样一位港风美女!!多年来一直引领亚洲审美潮流的韩系审美,最终也兜兜转转追逐上中式美学了么? \\n\\n黑皮、小内双、长中庭、鼻梁高挺、骨相立体清晰。 \\n\\n配上一头乌黑的长卷发,和大耳环,妥妥的tvb花旦脸。 \\n\\n175的超绝身材比例更是让他姐味十足,高级感拉满。 \\n\\n不仅脸港,名字更港,她就是黑厂新晋女团meovv的成员——李佳媛。 \\n\\n提到韩系审美,你们脑海中会浮现出什么?冷白皮、水光肌、低山根、大卧蚕…… \\n\\n然而,随着时代的变迁,韩系审美实际上也在悄然发生着变化。从早期的“幼态脸”到后来的“清冷美人”、“恶女风”,韩国女性对于美的追求逐渐从单一走向多元,但还未曾跳脱出对上述那些特征的偏爱。而李佳媛的出现,无疑是将这种多元化推向了一个新的高度。 \\n\\n李佳媛的风格在韩国娱乐圈中显得尤为独特。清晰的下颌线和立体的下颌角,展现了不同于传统韩系美女的力量感,更是让05年的她就拥有了港风美人的韵味。 \\n\\n近年来,韩系审美越来越注重女性的力量感,这种力量感目前大多体现在韩女对身材线条上的追求上。 \\n\\n大胆预测一下,这种面部的轮廓上的力量感——清晰的下颌线、立体的下颌角,不久就将会成为韩系审美的新风向。韩女也开始向着港风的不魅男、不讨好、高智感靠拢。 \\n\\n而下颌的建设之路,通常任重而道远。 \\n\\n刚刚大学毕业的晨晨,也是韩系美学的忠实拥护者,一直以来都对美有着独特的追求。然而,下巴后缩的问题让她从小就倍感困扰。圆顿的面部、模糊的下颌线,让她看起来略显土气,这与她心中理想的形象相去甚远。 \\n\\n为此她也尝试过带牙套,遗憾的是这对她来说并没有什么帮助,她的这种下巴后缩是骨性的,无法通过带牙套改变,所以她便把希望寄托在了医美上。 \\n\\n▲下巴后缩类型 \\n\\n从那开始,晨晨开始对医美产生了浓厚的兴趣,开始在网上研究各种重塑下颌的方式。然而,由于经济条件受限和对医美认知的不足,她走了多次弯路。Botox、相对便宜的玻尿酸,在网上随意寻找一个机构,甚至由于经济不支持,她无法注射足量,只打了一支。尽管付出了当时对她来说超负荷的金钱和努力,却都达不到她所想要的效果。 \\n\\n晨晨所走过的弯路,也是我们在重塑下颌时常常会遇到的问题。 \\n\\n提到下颌缘重塑,我们通常第一时间想到的手段是通过botox。很多妹妹也是看到别人的对比后,就迫不及待地去找医生做同款,最后发现却效果到自己脸上微乎其微,接着就认为是医生的操作问题。 \\n\\n实际上任何项目都是有适应范围的,就比如通过botox塑造下颌缘,首先不适合的就是肉肉脸的朋友们,因为botox能够改善的只是我们松弛下垂的颈阔肌,并没有减脂的效果,因此对于肉肉脸导致的下颌缘不清晰,效果并不明显。 \\n\\n对于肉肉脸,或是原生的下颌骨量缺失,实际上应该做加法,通过注射填充对下颌的骨容量进行一个补充。 \\n\\n相信听到这里,很多朋友们会担心“我的脸已经够园够胖了,还要做加法吗?”“填充会不会让我的脸更大? \\n\\n下颌线的Z射目的是为了清晰骨相,刻画出面部与颈部的折叠,能够使面部外轮廓分界更清晰。让我们的面部从下颌线开始向后折叠,视觉上反而会更显脸小。 \\n\\n提到下颌的注射,材料的选择也曾是一个无法真正逾越的难关。 \\n\\n❌ 部分材料分解速度快,注射后效果维持时间短,需要频繁补充注射。 \\n\\n❌ 硬度低,无法替代下颌缺失的骨量,稍微用力捏就会感觉到软软的。 \\n\\n❌ 塑性能力差,形状不尽如人意,时间长了还会下垂,变得又尖又假。 \\n\\n这些经历让晨晨深感失望,但她并没有放弃追求美的愿望。毕业后,晨晨凭借着自己对医美的热爱和研究,来到了她最向往的医美机构——凯思米。 \\n\\n当我看到她的第一眼时,只觉得她是个活泼可爱、喜气洋洋的小女孩,尽管身材已经足够苗条了,脸上依旧看起来圆圆的,让她还保留着学生时期的稚气。模糊后缩的下颌,让她缺少了一种力量感,看起来像是【被爸爸妈妈养的很好】。 \\n\\n而如今的她,看上去更像是【有能力把自己照顾的很好】。今年,乔雅登朔颜的上市给了晨晨一个重新获得梦想中下颌的机会。 \\n\\n朔颜,这款专门针对下面部研发的玻尿酸产品,凭借它出色的支撑力和塑性能力,成为下颌轮廓新的首选。比如,下巴短小、下颌后缩、面部松弛下垂等,朔颜都能帮你重塑美丽下颌线。 \\n\\n作为乔雅登Vycross系列中透明质酸浓度、弹性模量和内聚力最高的产品,它能够提供强大的支撑力,能够更好的模拟骨骼的形态,承托住下面部的皮肉。 \\n\\n朔颜的塑形效果持久且稳定,能够立即看到明显的效果。而且,它还具有抗形变和抗位移的能力,能够长时间维持住刚填完的形态。 \\n\\n朔颜的下颌削弱了晨晨的稚嫩感,取而代之的是一种精致感、力量感。它的硬度堪比假体,但同时又具有可逆性和含有0.3%的舒适注射过程,非常适合初试医美的妹妹们。 \\n\\n更重要的是,朔颜不仅能够塑造立体的下颌线,还能起到提升紧致的作用,有了下颌韧带的支撑,能够更好的承托住下垂松弛的面部皮肉,让面部看起来更加紧致、年轻。 \\n\\n爆改员工系列 \\n\\n拥有了超绝下颌线的晨晨,在工作中变得更加自信。立体清晰的下颌让她在工作中显得更加游刃有余,看上去更专业、更值得信赖。同时,这种自信也体现在她的笑容中。每当她从镜子里看到现在的自己,都会感到无比的开心和满足,这让她的笑容更加灿烂、更有感染力。 \\n\\n她也用这样的笑容传递着快乐和正能量,让每一位来到凯思米的顾客都能感受到这里的氛围和温度。 \\n\\n可以说,晨晨与凯思米是相互成就的,我们共同书写着一段关于美丽和梦想的传奇。 \\n\\n看完晨晨的故事,有没有解决你正纠结的问题呢?或者,你是否也有过类似的经历,愿意分享你的心得和体验? \\n\\n评论区留言,我们会选1个粉丝宝宝送【NORHOR 城市限定香氛】,5个粉丝宝宝送【海菲秀—迷你星耀黑相机包】 \\n\\n',\n",
       " 'url': 'http://mp.weixin.qq.com/s?__biz=MzUzMTUwMjcyMg==&mid=2247548448&idx=1&sn=3ca5e56a2913101eb271b109236940a6',\n",
       " 'doc_num_of_collect': 40,\n",
       " 'doc_num_of_comment': 0,\n",
       " 'doc_num_of_forward': 0,\n",
       " 'doc_num_of_like': 45,\n",
       " 'WOW': nan,\n",
       " 'doc_num_of_read': 869,\n",
       " 'fans': 0,\n",
       " 'verified': '1',\n",
       " 'is_used_check': '是',\n",
       " 'is_used': '是',\n",
       " 'reject_word': nan,\n",
       " 'valid_word': '乔雅登',\n",
       " 'effective_word': nan,\n",
       " 'wa_type': '微信',\n",
       " 'kol_name': 'PGC',\n",
       " 'engagement_cnt': 85,\n",
       " 'influence_cnt': 954,\n",
       " 'kol_name_check': 'PGC',\n",
       " 'koc_name_check': '微信/新闻媒体',\n",
       " 'koc_type': '微信/新闻媒体',\n",
       " 'hospital': nan,\n",
       " 'chain': nan,\n",
       " 'institution_flag': nan,\n",
       " 'dr_flag': nan,\n",
       " 'profile_url': 'https://weixin.sogou.com/weixin?type=1&query=liuyihetianling_',\n",
       " 'description': '两位40+的姐姐，在这里和你分享关于抗老保养、变美微调、风格审美、体态进阶等关于美的一切。我们的目标是，像一辆漂亮的哈雷，横扫同龄人。',\n",
       " 'topic1': '机构促销',\n",
       " 'topic1_score': 0.9993353486061096,\n",
       " 'topic2': '医师推荐宣传日常内容+产品推荐宣传',\n",
       " 'topic2_score': 0.0001456176541978493,\n",
       " '数据来源': '2818表',\n",
       " 'origin_doc_id': 'c933e62ad9bb6ec7c1095d77d4eb72cf',\n",
       " 'content': '【文末好礼】韩女又流行上“港风”了?比裴珠泫更tvb的女人…,真没想到有一天能在韩国女团里,看到这样一位港风美女!!多年来一直引领亚洲审美潮流的韩系审美,最终也兜兜转转追逐上中式美学了么? \\n\\n黑皮、小内双、长中庭、鼻梁高挺、骨相立体清晰。 \\n\\n配上一头乌黑的长卷发,和大耳环,妥妥的tvb花旦脸。 \\n\\n175的超绝身材比例更是让他姐味十足,高级感拉满。 \\n\\n不仅脸港,名字更港,她就是黑厂新晋女团meovv的成员——李佳媛。 \\n\\n提到韩系审美,你们脑海中会浮现出什么?冷白皮、水光肌、低山根、大卧蚕…… \\n\\n然而,随着时代的变迁,韩系审美实际上也在悄然发生着变化。从早期的“幼态脸”到后来的“清冷美人”、“恶女风”,韩国女性对于美的追求逐渐从单一走向多元,但还未曾跳脱出对上述那些特征的偏爱。而李佳媛的出现,无疑是将这种多元化推向了一个新的高度。 \\n\\n李佳媛的风格在韩国娱乐圈中显得尤为独特。清晰的下颌线和立体的下颌角,展现了不同于传统韩系美女的力量感,更是让05年的她就拥有了港风美人的韵味。 \\n\\n近年来,韩系审美越来越注重女性的力量感,这种力量感目前大多体现在韩女对身材线条上的追求上。 \\n\\n大胆预测一下,这种面部的轮廓上的力量感——清晰的下颌线、立体的下颌角,不久就将会成为韩系审美的新风向。韩女也开始向着港风的不魅男、不讨好、高智感靠拢。 \\n\\n而下颌的建设之路,通常任重而道远。 \\n\\n刚刚大学毕业的晨晨,也是韩系美学的忠实拥护者,一直以来都对美有着独特的追求。然而,下巴后缩的问题让她从小就倍感困扰。圆顿的面部、模糊的下颌线,让她看起来略显土气,这与她心中理想的形象相去甚远。 \\n\\n为此她也尝试过带牙套,遗憾的是这对她来说并没有什么帮助,她的这种下巴后缩是骨性的,无法通过带牙套改变,所以她便把希望寄托在了医美上。 \\n\\n▲下巴后缩类型 \\n\\n从那开始,晨晨开始对医美产生了浓厚的兴趣,开始在网上研究各种重塑下颌的方式。然而,由于经济条件受限和对医美认知的不足,她走了多次弯路。Botox、相对便宜的玻尿酸,在网上随意寻找一个机构,甚至由于经济不支持,她无法注射足量,只打了一支。尽管付出了当时对她来说超负荷的金钱和努力,却都达不到她所想要的效果。 \\n\\n晨晨所走过的弯路,也是我们在重塑下颌时常常会遇到的问题。 \\n\\n提到下颌缘重塑,我们通常第一时间想到的手段是通过botox。很多妹妹也是看到别人的对比后,就迫不及待地去找医生做同款,最后发现却效果到自己脸上微乎其微,接着就认为是医生的操作问题。 \\n\\n实际上任何项目都是有适应范围的,就比如通过botox塑造下颌缘,首先不适合的就是肉肉脸的朋友们,因为botox能够改善的只是我们松弛下垂的颈阔肌,并没有减脂的效果,因此对于肉肉脸导致的下颌缘不清晰,效果并不明显。 \\n\\n对于肉肉脸,或是原生的下颌骨量缺失,实际上应该做加法,通过注射填充对下颌的骨容量进行一个补充。 \\n\\n相信听到这里,很多朋友们会担心“我的脸已经够园够胖了,还要做加法吗?”“填充会不会让我的脸更大? \\n\\n下颌线的Z射目的是为了清晰骨相,刻画出面部与颈部的折叠,能够使面部外轮廓分界更清晰。让我们的面部从下颌线开始向后折叠,视觉上反而会更显脸小。 \\n\\n提到下颌的注射,材料的选择也曾是一个无法真正逾越的难关。 \\n\\n❌ 部分材料分解速度快,注射后效果维持时间短,需要频繁补充注射。 \\n\\n❌ 硬度低,无法替代下颌缺失的骨量,稍微用力捏就会感觉到软软的。 \\n\\n❌ 塑性能力差,形状不尽如人意,时间长了还会下垂,变得又尖又假。 \\n\\n这些经历让晨晨深感失望,但她并没有放弃追求美的愿望。毕业后,晨晨凭借着自己对医美的热爱和研究,来到了她最向往的医美机构——凯思米。 \\n\\n当我看到她的第一眼时,只觉得她是个活泼可爱、喜气洋洋的小女孩,尽管身材已经足够苗条了,脸上依旧看起来圆圆的,让她还保留着学生时期的稚气。模糊后缩的下颌,让她缺少了一种力量感,看起来像是【被爸爸妈妈养的很好】。 \\n\\n而如今的她,看上去更像是【有能力把自己照顾的很好】。今年,乔雅登朔颜的上市给了晨晨一个重新获得梦想中下颌的机会。 \\n\\n朔颜,这款专门针对下面部研发的玻尿酸产品,凭借它出色的支撑力和塑性能力,成为下颌轮廓新的首选。比如,下巴短小、下颌后缩、面部松弛下垂等,朔颜都能帮你重塑美丽下颌线。 \\n\\n作为乔雅登Vycross系列中透明质酸浓度、弹性模量和内聚力最高的产品,它能够提供强大的支撑力,能够更好的模拟骨骼的形态,承托住下面部的皮肉。 \\n\\n朔颜的塑形效果持久且稳定,能够立即看到明显的效果。而且,它还具有抗形变和抗位移的能力,能够长时间维持住刚填完的形态。 \\n\\n朔颜的下颌削弱了晨晨的稚嫩感,取而代之的是一种精致感、力量感。它的硬度堪比假体,但同时又具有可逆性和含有0.3%的舒适注射过程,非常适合初试医美的妹妹们。 \\n\\n更重要的是,朔颜不仅能够塑造立体的下颌线,还能起到提升紧致的作用,有了下颌韧带的支撑,能够更好的承托住下垂松弛的面部皮肉,让面部看起来更加紧致、年轻。 \\n\\n爆改员工系列 \\n\\n拥有了超绝下颌线的晨晨,在工作中变得更加自信。立体清晰的下颌让她在工作中显得更加游刃有余,看上去更专业、更值得信赖。同时,这种自信也体现在她的笑容中。每当她从镜子里看到现在的自己,都会感到无比的开心和满足,这让她的笑容更加灿烂、更有感染力。 \\n\\n她也用这样的笑容传递着快乐和正能量,让每一位来到凯思米的顾客都能感受到这里的氛围和温度。 \\n\\n可以说,晨晨与凯思米是相互成就的,我们共同书写着一段关于美丽和梦想的传奇。 \\n\\n看完晨晨的故事,有没有解决你正纠结的问题呢?或者,你是否也有过类似的经历,愿意分享你的心得和体验? \\n\\n评论区留言,我们会选1个粉丝宝宝送【NORHOR 城市限定香氛】,5个粉丝宝宝送【海菲秀—迷你星耀黑相机包】',\n",
       " 'subj_sent': defaultdict(list,\n",
       "             {'8': [{'ent_id': '8',\n",
       "                'text': '而如今的她,看上去更像是【有能力把自己照顾的很好】。今年,乔雅登朔颜的上市给了晨晨一个重新获得梦想中下颌的机会。 \\n\\n朔颜,这款专门针对下面部研发的玻尿酸产品,凭借它出色的支撑力和塑性能力,成为下颌轮廓新的首选。',\n",
       "                'kws': ['*juvéderm*',\n",
       "                 '*豐顏*',\n",
       "                 '*喬1*',\n",
       "                 '*喬2*',\n",
       "                 '*喬3*',\n",
       "                 '*喬4*',\n",
       "                 '*喬5*',\n",
       "                 '*喬亞登*',\n",
       "                 '*喬雅登*',\n",
       "                 '*喬雅登1號*',\n",
       "                 '*喬雅登2號*',\n",
       "                 '*喬雅登3號*',\n",
       "                 '*喬雅登4號*',\n",
       "                 '*喬雅登5號*',\n",
       "                 '*極致*',\n",
       "                 '*緹顏*',\n",
       "                 '*質顏*',\n",
       "                 '*雅緻*',\n",
       "                 'juvederm',\n",
       "                 'juvéderm',\n",
       "                 'ultra',\n",
       "                 'ultraplus',\n",
       "                 'ultra|plus',\n",
       "                 'volbella',\n",
       "                 'volift',\n",
       "                 'voluma',\n",
       "                 '喬雅登'],\n",
       "                'is_hl': False,\n",
       "                'start_index': 1648,\n",
       "                'end_index': 1754,\n",
       "                'kw_idxs': [[1677, 1680]],\n",
       "                'target_locs': [[29, 32]]},\n",
       "               {'ent_id': '8',\n",
       "                'text': '比如,下巴短小、下颌后缩、面部松弛下垂等,朔颜都能帮你重塑美丽下颌线。 \\n\\n作为乔雅登Vycross系列中透明质酸浓度、弹性模量和内聚力最高的产品,它能够提供强大的支撑力,能够更好的模拟骨骼的形态,承托住下面部的皮肉。 \\n\\n朔颜的塑形效果持久且稳定,能够立即看到明显的效果。',\n",
       "                'kws': ['*juvéderm*',\n",
       "                 '*豐顏*',\n",
       "                 '*喬1*',\n",
       "                 '*喬2*',\n",
       "                 '*喬3*',\n",
       "                 '*喬4*',\n",
       "                 '*喬5*',\n",
       "                 '*喬亞登*',\n",
       "                 '*喬雅登*',\n",
       "                 '*喬雅登1號*',\n",
       "                 '*喬雅登2號*',\n",
       "                 '*喬雅登3號*',\n",
       "                 '*喬雅登4號*',\n",
       "                 '*喬雅登5號*',\n",
       "                 '*極致*',\n",
       "                 '*緹顏*',\n",
       "                 '*質顏*',\n",
       "                 '*雅緻*',\n",
       "                 'juvederm',\n",
       "                 'juvéderm',\n",
       "                 'ultra',\n",
       "                 'ultraplus',\n",
       "                 'ultra|plus',\n",
       "                 'volbella',\n",
       "                 'volift',\n",
       "                 'voluma',\n",
       "                 '喬雅登'],\n",
       "                'is_hl': False,\n",
       "                'start_index': 1754,\n",
       "                'end_index': 1891,\n",
       "                'kw_idxs': [[1794, 1797]],\n",
       "                'target_locs': [[40, 43]]}]})}"
      ]
     },
     "execution_count": 29,
     "metadata": {},
     "output_type": "execute_result"
    }
   ],
   "source": [
    "sentences_data[0]"
   ]
  },
  {
   "cell_type": "code",
   "execution_count": 30,
   "id": "27b615b3-b88e-4d7c-ae7e-c429b73014b7",
   "metadata": {
    "tags": []
   },
   "outputs": [
    {
     "name": "stdout",
     "output_type": "stream",
     "text": [
      "(138710, 15)\n"
     ]
    },
    {
     "data": {
      "text/plain": [
       "Index(['ent_id', 'text', 'kws', 'is_hl', 'start_index', 'end_index', 'kw_idxs',\n",
       "       'target_locs', 'doc_id', 'subject3', 'pubdate', 'content', 'headline',\n",
       "       'norm_content', 'norm_target_locs'],\n",
       "      dtype='object')"
      ]
     },
     "execution_count": 30,
     "metadata": {},
     "output_type": "execute_result"
    }
   ],
   "source": [
    "sentence_output_columns = ['doc_id', 'subject3', 'pubdate' , \"content\", 'headline']\n",
    "sentences_df = mask_target_subject_word(sentence_output_columns, sentences_data)\n",
    "sentences_df.columns"
   ]
  },
  {
   "cell_type": "code",
   "execution_count": 31,
   "id": "c6c7ab42-55d5-45ec-a6b3-5d26417338d4",
   "metadata": {
    "tags": []
   },
   "outputs": [
    {
     "data": {
      "text/html": [
       "<div>\n",
       "<style scoped>\n",
       "    .dataframe tbody tr th:only-of-type {\n",
       "        vertical-align: middle;\n",
       "    }\n",
       "\n",
       "    .dataframe tbody tr th {\n",
       "        vertical-align: top;\n",
       "    }\n",
       "\n",
       "    .dataframe thead th {\n",
       "        text-align: right;\n",
       "    }\n",
       "</style>\n",
       "<table border=\"1\" class=\"dataframe\">\n",
       "  <thead>\n",
       "    <tr style=\"text-align: right;\">\n",
       "      <th></th>\n",
       "      <th>ent_id</th>\n",
       "      <th>text</th>\n",
       "      <th>kws</th>\n",
       "      <th>is_hl</th>\n",
       "      <th>start_index</th>\n",
       "      <th>end_index</th>\n",
       "      <th>kw_idxs</th>\n",
       "      <th>target_locs</th>\n",
       "      <th>doc_id</th>\n",
       "      <th>subject3</th>\n",
       "      <th>pubdate</th>\n",
       "      <th>content</th>\n",
       "      <th>headline</th>\n",
       "      <th>norm_content</th>\n",
       "      <th>norm_target_locs</th>\n",
       "    </tr>\n",
       "  </thead>\n",
       "  <tbody>\n",
       "    <tr>\n",
       "      <th>0</th>\n",
       "      <td>8</td>\n",
       "      <td>而如今的她,看上去更像是【有能力把自己照顾的很好】。今年,乔雅登朔颜的上市给了晨晨一个重新获...</td>\n",
       "      <td>[*juvéderm*, *豐顏*, *喬1*, *喬2*, *喬3*, *喬4*, *喬5...</td>\n",
       "      <td>False</td>\n",
       "      <td>1648</td>\n",
       "      <td>1754</td>\n",
       "      <td>[[1677, 1680]]</td>\n",
       "      <td>[[29, 32]]</td>\n",
       "      <td>21</td>\n",
       "      <td>乔雅登</td>\n",
       "      <td>20250206</td>\n",
       "      <td>【文末好礼】韩女又流行上“港风”了?比裴珠泫更tvb的女人…,真没想到有一天能在韩国女团里,...</td>\n",
       "      <td>【文末好礼】韩女又流行上“港风”了?比裴珠泫更tvb的女人…</td>\n",
       "      <td>而如今的她,看上去更像是【有能力把自己照顾的很好】。今年,[unused1]朔颜的上市给了晨...</td>\n",
       "      <td>[[29, 38]]</td>\n",
       "    </tr>\n",
       "    <tr>\n",
       "      <th>1</th>\n",
       "      <td>8</td>\n",
       "      <td>比如,下巴短小、下颌后缩、面部松弛下垂等,朔颜都能帮你重塑美丽下颌线。 \\n\\n作为乔雅登V...</td>\n",
       "      <td>[*juvéderm*, *豐顏*, *喬1*, *喬2*, *喬3*, *喬4*, *喬5...</td>\n",
       "      <td>False</td>\n",
       "      <td>1754</td>\n",
       "      <td>1891</td>\n",
       "      <td>[[1794, 1797]]</td>\n",
       "      <td>[[40, 43]]</td>\n",
       "      <td>21</td>\n",
       "      <td>乔雅登</td>\n",
       "      <td>20250206</td>\n",
       "      <td>【文末好礼】韩女又流行上“港风”了?比裴珠泫更tvb的女人…,真没想到有一天能在韩国女团里,...</td>\n",
       "      <td>【文末好礼】韩女又流行上“港风”了?比裴珠泫更tvb的女人…</td>\n",
       "      <td>比如,下巴短小、下颌后缩、面部松弛下垂等,朔颜都能帮你重塑美丽下颌线。 \\n\\n作为[unu...</td>\n",
       "      <td>[[40, 49]]</td>\n",
       "    </tr>\n",
       "    <tr>\n",
       "      <th>2</th>\n",
       "      <td>9</td>\n",
       "      <td>面部折叠线的塑造相当于基本框架的搭建,对于这部分的材料选择需选择支撑力特别强的再生材料(例如...</td>\n",
       "      <td>[*restylane*, *麗多*, *麗瑅*, *麗緹*, *唯瑅*, *唯緹*, *定...</td>\n",
       "      <td>False</td>\n",
       "      <td>1108</td>\n",
       "      <td>1318</td>\n",
       "      <td>[[1229, 1231]]</td>\n",
       "      <td>[[121, 123]]</td>\n",
       "      <td>24</td>\n",
       "      <td>瑞蓝</td>\n",
       "      <td>20250204</td>\n",
       "      <td>过年最不想面对的事……在朋友圈看到自己没P图的合照,过年根本就不敢刷朋友圈!!! \\n\\n年...</td>\n",
       "      <td>过年最不想面对的事……在朋友圈看到自己没P图的合照</td>\n",
       "      <td>面部折叠线的塑造相当于基本框架的搭建,对于这部分的材料选择需选择支撑力特别强的再生材料(例如...</td>\n",
       "      <td>[[121, 130]]</td>\n",
       "    </tr>\n",
       "    <tr>\n",
       "      <th>3</th>\n",
       "      <td>8</td>\n",
       "      <td>而如今的她,看上去更像是【有能力把自己照顾的很好】。今年,乔雅登朔颜的上市给了晨晨一个重新获...</td>\n",
       "      <td>[*juvéderm*, *豐顏*, *喬1*, *喬2*, *喬3*, *喬4*, *喬5...</td>\n",
       "      <td>False</td>\n",
       "      <td>1648</td>\n",
       "      <td>1754</td>\n",
       "      <td>[[1677, 1680]]</td>\n",
       "      <td>[[29, 32]]</td>\n",
       "      <td>27</td>\n",
       "      <td>乔雅登</td>\n",
       "      <td>20250206</td>\n",
       "      <td>【文末好礼】韩女又流行上“港风”了?比裴珠泫更tvb的女人…,真没想到有一天能在韩国女团里,...</td>\n",
       "      <td>【文末好礼】韩女又流行上“港风”了?比裴珠泫更tvb的女人…</td>\n",
       "      <td>而如今的她,看上去更像是【有能力把自己照顾的很好】。今年,[unused1]朔颜的上市给了晨...</td>\n",
       "      <td>[[29, 38]]</td>\n",
       "    </tr>\n",
       "    <tr>\n",
       "      <th>4</th>\n",
       "      <td>8</td>\n",
       "      <td>比如,下巴短小、下颌后缩、面部松弛下垂等,朔颜都能帮你重塑美丽下颌线。 \\n\\n作为乔雅登V...</td>\n",
       "      <td>[*juvéderm*, *豐顏*, *喬1*, *喬2*, *喬3*, *喬4*, *喬5...</td>\n",
       "      <td>False</td>\n",
       "      <td>1754</td>\n",
       "      <td>1891</td>\n",
       "      <td>[[1794, 1797]]</td>\n",
       "      <td>[[40, 43]]</td>\n",
       "      <td>27</td>\n",
       "      <td>乔雅登</td>\n",
       "      <td>20250206</td>\n",
       "      <td>【文末好礼】韩女又流行上“港风”了?比裴珠泫更tvb的女人…,真没想到有一天能在韩国女团里,...</td>\n",
       "      <td>【文末好礼】韩女又流行上“港风”了?比裴珠泫更tvb的女人…</td>\n",
       "      <td>比如,下巴短小、下颌后缩、面部松弛下垂等,朔颜都能帮你重塑美丽下颌线。 \\n\\n作为[unu...</td>\n",
       "      <td>[[40, 49]]</td>\n",
       "    </tr>\n",
       "  </tbody>\n",
       "</table>\n",
       "</div>"
      ],
      "text/plain": [
       "  ent_id                                               text  \\\n",
       "0      8  而如今的她,看上去更像是【有能力把自己照顾的很好】。今年,乔雅登朔颜的上市给了晨晨一个重新获...   \n",
       "1      8  比如,下巴短小、下颌后缩、面部松弛下垂等,朔颜都能帮你重塑美丽下颌线。 \\n\\n作为乔雅登V...   \n",
       "2      9  面部折叠线的塑造相当于基本框架的搭建,对于这部分的材料选择需选择支撑力特别强的再生材料(例如...   \n",
       "3      8  而如今的她,看上去更像是【有能力把自己照顾的很好】。今年,乔雅登朔颜的上市给了晨晨一个重新获...   \n",
       "4      8  比如,下巴短小、下颌后缩、面部松弛下垂等,朔颜都能帮你重塑美丽下颌线。 \\n\\n作为乔雅登V...   \n",
       "\n",
       "                                                 kws  is_hl  start_index  \\\n",
       "0  [*juvéderm*, *豐顏*, *喬1*, *喬2*, *喬3*, *喬4*, *喬5...  False         1648   \n",
       "1  [*juvéderm*, *豐顏*, *喬1*, *喬2*, *喬3*, *喬4*, *喬5...  False         1754   \n",
       "2  [*restylane*, *麗多*, *麗瑅*, *麗緹*, *唯瑅*, *唯緹*, *定...  False         1108   \n",
       "3  [*juvéderm*, *豐顏*, *喬1*, *喬2*, *喬3*, *喬4*, *喬5...  False         1648   \n",
       "4  [*juvéderm*, *豐顏*, *喬1*, *喬2*, *喬3*, *喬4*, *喬5...  False         1754   \n",
       "\n",
       "   end_index         kw_idxs   target_locs  doc_id subject3   pubdate  \\\n",
       "0       1754  [[1677, 1680]]    [[29, 32]]      21      乔雅登  20250206   \n",
       "1       1891  [[1794, 1797]]    [[40, 43]]      21      乔雅登  20250206   \n",
       "2       1318  [[1229, 1231]]  [[121, 123]]      24       瑞蓝  20250204   \n",
       "3       1754  [[1677, 1680]]    [[29, 32]]      27      乔雅登  20250206   \n",
       "4       1891  [[1794, 1797]]    [[40, 43]]      27      乔雅登  20250206   \n",
       "\n",
       "                                             content  \\\n",
       "0  【文末好礼】韩女又流行上“港风”了?比裴珠泫更tvb的女人…,真没想到有一天能在韩国女团里,...   \n",
       "1  【文末好礼】韩女又流行上“港风”了?比裴珠泫更tvb的女人…,真没想到有一天能在韩国女团里,...   \n",
       "2  过年最不想面对的事……在朋友圈看到自己没P图的合照,过年根本就不敢刷朋友圈!!! \\n\\n年...   \n",
       "3  【文末好礼】韩女又流行上“港风”了?比裴珠泫更tvb的女人…,真没想到有一天能在韩国女团里,...   \n",
       "4  【文末好礼】韩女又流行上“港风”了?比裴珠泫更tvb的女人…,真没想到有一天能在韩国女团里,...   \n",
       "\n",
       "                         headline  \\\n",
       "0  【文末好礼】韩女又流行上“港风”了?比裴珠泫更tvb的女人…   \n",
       "1  【文末好礼】韩女又流行上“港风”了?比裴珠泫更tvb的女人…   \n",
       "2       过年最不想面对的事……在朋友圈看到自己没P图的合照   \n",
       "3  【文末好礼】韩女又流行上“港风”了?比裴珠泫更tvb的女人…   \n",
       "4  【文末好礼】韩女又流行上“港风”了?比裴珠泫更tvb的女人…   \n",
       "\n",
       "                                        norm_content norm_target_locs  \n",
       "0  而如今的她,看上去更像是【有能力把自己照顾的很好】。今年,[unused1]朔颜的上市给了晨...       [[29, 38]]  \n",
       "1  比如,下巴短小、下颌后缩、面部松弛下垂等,朔颜都能帮你重塑美丽下颌线。 \\n\\n作为[unu...       [[40, 49]]  \n",
       "2  面部折叠线的塑造相当于基本框架的搭建,对于这部分的材料选择需选择支撑力特别强的再生材料(例如...     [[121, 130]]  \n",
       "3  而如今的她,看上去更像是【有能力把自己照顾的很好】。今年,[unused1]朔颜的上市给了晨...       [[29, 38]]  \n",
       "4  比如,下巴短小、下颌后缩、面部松弛下垂等,朔颜都能帮你重塑美丽下颌线。 \\n\\n作为[unu...       [[40, 49]]  "
      ]
     },
     "execution_count": 31,
     "metadata": {},
     "output_type": "execute_result"
    }
   ],
   "source": [
    "sentences_df.head()"
   ]
  },
  {
   "cell_type": "markdown",
   "id": "2b0db712-dc5c-48fa-b90c-466ebdcbd1c0",
   "metadata": {},
   "source": [
    "# 将通过句子窗口抽取到的主体句子进行拼借"
   ]
  },
  {
   "cell_type": "code",
   "execution_count": 32,
   "id": "9e75b11e-3cd1-42b0-a9b1-3af00f988ddf",
   "metadata": {
    "tags": []
   },
   "outputs": [
    {
     "data": {
      "text/plain": [
       "[]"
      ]
     },
     "execution_count": 32,
     "metadata": {},
     "output_type": "execute_result"
    }
   ],
   "source": [
    "sentences_df[sentences_df['doc_id']==5].to_dict(\"records\")"
   ]
  },
  {
   "cell_type": "code",
   "execution_count": 33,
   "id": "faa2870d-1704-455b-97bd-d01abe0dc72c",
   "metadata": {
    "tags": []
   },
   "outputs": [
    {
     "data": {
      "text/plain": [
       "75617"
      ]
     },
     "execution_count": 33,
     "metadata": {},
     "output_type": "execute_result"
    }
   ],
   "source": [
    "set(sentences_df['doc_id'].tolist()).__len__()"
   ]
  },
  {
   "cell_type": "code",
   "execution_count": 34,
   "id": "c2e4aa5b-bc92-4f55-a2a9-74258a98cbab",
   "metadata": {
    "tags": []
   },
   "outputs": [
    {
     "data": {
      "text/plain": [
       "75617"
      ]
     },
     "execution_count": 34,
     "metadata": {},
     "output_type": "execute_result"
    }
   ],
   "source": [
    "dict_docid_map_sentences = {}\n",
    "for docid, df_ in sentences_df.groupby(['doc_id']):\n",
    "    s_list = df_.to_dict('records')\n",
    "    if isinstance(docid, tuple):\n",
    "        docid = docid[0]\n",
    "    dict_docid_map_sentences[docid] = s_list\n",
    "len(dict_docid_map_sentences)"
   ]
  },
  {
   "cell_type": "code",
   "execution_count": 35,
   "id": "9fe3bdfd-bcee-4203-98e4-43cf798905e0",
   "metadata": {
    "tags": []
   },
   "outputs": [
    {
     "data": {
      "text/plain": [
       "([21, 24, 27, 110, 154], (138710, 15))"
      ]
     },
     "execution_count": 35,
     "metadata": {},
     "output_type": "execute_result"
    }
   ],
   "source": [
    "list(dict_docid_map_sentences.keys())[:5], sentences_df.shape"
   ]
  },
  {
   "cell_type": "code",
   "execution_count": 36,
   "id": "2d04e43d-c475-4b9a-b4fb-2d3641135b2f",
   "metadata": {
    "tags": []
   },
   "outputs": [
    {
     "data": {
      "text/plain": [
       "(138710, 16)"
      ]
     },
     "execution_count": 36,
     "metadata": {},
     "output_type": "execute_result"
    }
   ],
   "source": [
    "sentences_df['sentences'] = sentences_df.apply(\n",
    "    lambda x: dict_docid_map_sentences[x['doc_id']], axis=1)\n",
    "sentences_df.shape"
   ]
  },
  {
   "cell_type": "code",
   "execution_count": 37,
   "id": "bd3eca2f-f281-4e62-837b-c4ae17a8b97c",
   "metadata": {
    "tags": []
   },
   "outputs": [],
   "source": [
    "def concat_target_sentence_by_ent_id(input_data):\n",
    "    # if input_data['媒体类型(中文)'] == 'APP':\n",
    "    #     items = [i.copy() for i in input_data['sentences'] if not i['text'] in input_data['标题']]\n",
    "    # else:\n",
    "    #     items = [i.copy() for i in input_data['sentences']]\n",
    "    items = [i.copy() for i in input_data['sentences']]\n",
    "\n",
    "    if len(items) == 0:\n",
    "        return []\n",
    "    \n",
    "    df_sts = pd.DataFrame(items)\n",
    "    # print(df_sts)\n",
    "\n",
    "    output = [] \n",
    "    for ent_id, df in df_sts.groupby('doc_id'):\n",
    "        value = concat_target_sentences(df.to_dict('records'))\n",
    "        # print(value)\n",
    "        output.append(value)\n",
    "    return output"
   ]
  },
  {
   "cell_type": "code",
   "execution_count": 38,
   "id": "803eb869-4c7d-40d8-8aa2-71b6b14bbeeb",
   "metadata": {
    "tags": []
   },
   "outputs": [
    {
     "name": "stderr",
     "output_type": "stream",
     "text": [
      "100%|██████████| 138710/138710 [05:01<00:00, 460.33it/s]\n"
     ]
    },
    {
     "data": {
      "text/plain": [
       "138710"
      ]
     },
     "execution_count": 38,
     "metadata": {},
     "output_type": "execute_result"
    }
   ],
   "source": [
    "sentence_concat_data = []\n",
    "for item in tqdm.tqdm(sentences_df.to_dict('records')):\n",
    "    processed_items =  concat_target_sentence_by_ent_id(item)\n",
    "    sentence_concat_data.extend(processed_items)\n",
    "len(sentence_concat_data)"
   ]
  },
  {
   "cell_type": "code",
   "execution_count": 39,
   "id": "759f679e-2b81-4193-b9a9-dc19c1c9d6f6",
   "metadata": {
    "tags": []
   },
   "outputs": [
    {
     "name": "stdout",
     "output_type": "stream",
     "text": [
      "(138710, 12)\n"
     ]
    },
    {
     "data": {
      "text/plain": [
       "((75617, 12),\n",
       " Index(['ent_id', 'text', 'kws', 'target_locs', 'doc_id', 'subject3', 'pubdate',\n",
       "        'content', 'headline', 'num_sentence', 'norm_content',\n",
       "        'norm_target_locs'],\n",
       "       dtype='object'))"
      ]
     },
     "execution_count": 39,
     "metadata": {},
     "output_type": "execute_result"
    }
   ],
   "source": [
    "df_subj_content1 = pd.DataFrame(sentence_concat_data)\n",
    "print(df_subj_content1.shape)\n",
    "df_subj_content1 = df_subj_content1[~df_subj_content1['doc_id'].duplicated()]\n",
    "df_subj_content1.shape, df_subj_content1.columns"
   ]
  },
  {
   "cell_type": "code",
   "execution_count": 40,
   "id": "97e53be9-a0d3-43c6-9176-f6f5df7be12a",
   "metadata": {
    "tags": []
   },
   "outputs": [
    {
     "data": {
      "text/html": [
       "<div>\n",
       "<style scoped>\n",
       "    .dataframe tbody tr th:only-of-type {\n",
       "        vertical-align: middle;\n",
       "    }\n",
       "\n",
       "    .dataframe tbody tr th {\n",
       "        vertical-align: top;\n",
       "    }\n",
       "\n",
       "    .dataframe thead th {\n",
       "        text-align: right;\n",
       "    }\n",
       "</style>\n",
       "<table border=\"1\" class=\"dataframe\">\n",
       "  <thead>\n",
       "    <tr style=\"text-align: right;\">\n",
       "      <th></th>\n",
       "      <th>ent_id</th>\n",
       "      <th>text</th>\n",
       "      <th>kws</th>\n",
       "      <th>target_locs</th>\n",
       "      <th>doc_id</th>\n",
       "      <th>subject3</th>\n",
       "      <th>pubdate</th>\n",
       "      <th>content</th>\n",
       "      <th>headline</th>\n",
       "      <th>num_sentence</th>\n",
       "      <th>norm_content</th>\n",
       "      <th>norm_target_locs</th>\n",
       "    </tr>\n",
       "  </thead>\n",
       "  <tbody>\n",
       "    <tr>\n",
       "      <th>0</th>\n",
       "      <td>8</td>\n",
       "      <td>而如今的她,看上去更像是【有能力把自己照顾的很好】。今年,乔雅登朔颜的上市给了晨晨一个重新获...</td>\n",
       "      <td>[*juvéderm*, *豐顏*, *喬1*, *喬2*, *喬3*, *喬4*, *喬5...</td>\n",
       "      <td>[[29, 32], [146, 149]]</td>\n",
       "      <td>21</td>\n",
       "      <td>乔雅登</td>\n",
       "      <td>20250206</td>\n",
       "      <td>【文末好礼】韩女又流行上“港风”了?比裴珠泫更tvb的女人…,真没想到有一天能在韩国女团里,...</td>\n",
       "      <td>【文末好礼】韩女又流行上“港风”了?比裴珠泫更tvb的女人…</td>\n",
       "      <td>2</td>\n",
       "      <td>而如今的她,看上去更像是【有能力把自己照顾的很好】。今年,[unused1]朔颜的上市给了晨...</td>\n",
       "      <td>[[141, 150], [183, 192]]</td>\n",
       "    </tr>\n",
       "    <tr>\n",
       "      <th>2</th>\n",
       "      <td>9</td>\n",
       "      <td>面部折叠线的塑造相当于基本框架的搭建,对于这部分的材料选择需选择支撑力特别强的再生材料(例如...</td>\n",
       "      <td>[*restylane*, *麗多*, *麗瑅*, *麗緹*, *唯瑅*, *唯緹*, *定...</td>\n",
       "      <td>[[121, 123]]</td>\n",
       "      <td>24</td>\n",
       "      <td>瑞蓝</td>\n",
       "      <td>20250204</td>\n",
       "      <td>过年最不想面对的事……在朋友圈看到自己没P图的合照,过年根本就不敢刷朋友圈!!! \\n\\n年...</td>\n",
       "      <td>过年最不想面对的事……在朋友圈看到自己没P图的合照</td>\n",
       "      <td>1</td>\n",
       "      <td>面部折叠线的塑造相当于基本框架的搭建,对于这部分的材料选择需选择支撑力特别强的再生材料(例如...</td>\n",
       "      <td>[[338, 347]]</td>\n",
       "    </tr>\n",
       "    <tr>\n",
       "      <th>3</th>\n",
       "      <td>8</td>\n",
       "      <td>而如今的她,看上去更像是【有能力把自己照顾的很好】。今年,乔雅登朔颜的上市给了晨晨一个重新获...</td>\n",
       "      <td>[*juvéderm*, *豐顏*, *喬1*, *喬2*, *喬3*, *喬4*, *喬5...</td>\n",
       "      <td>[[29, 32], [146, 149]]</td>\n",
       "      <td>27</td>\n",
       "      <td>乔雅登</td>\n",
       "      <td>20250206</td>\n",
       "      <td>【文末好礼】韩女又流行上“港风”了?比裴珠泫更tvb的女人…,真没想到有一天能在韩国女团里,...</td>\n",
       "      <td>【文末好礼】韩女又流行上“港风”了?比裴珠泫更tvb的女人…</td>\n",
       "      <td>2</td>\n",
       "      <td>而如今的她,看上去更像是【有能力把自己照顾的很好】。今年,[unused1]朔颜的上市给了晨...</td>\n",
       "      <td>[[141, 150], [183, 192]]</td>\n",
       "    </tr>\n",
       "    <tr>\n",
       "      <th>5</th>\n",
       "      <td>58</td>\n",
       "      <td>内外轮廓固定+眼周+口周+额头#北京少女针眉弓##眼周十全大补##天津微整形##北京微整形#...</td>\n",
       "      <td>[*薇旖美*, 薇旖美]</td>\n",
       "      <td>[[643, 646], [654, 657], [1529, 1532], [1540, ...</td>\n",
       "      <td>110</td>\n",
       "      <td>薇旖美</td>\n",
       "      <td>2025-02-22 00:00:00</td>\n",
       "      <td>🇰🇷 全面部少女感综合打造 现在biu晚上约会妥妥出片~内外轮廓固定+眼周+口周+额头#北京...</td>\n",
       "      <td>🇰🇷 全面部少女感综合打造 现在biu晚上约会妥妥出片~内外轮廓固定+眼周+口周+额头#北京...</td>\n",
       "      <td>1</td>\n",
       "      <td>内外轮廓固定+眼周+口周+额头#北京少女针眉弓##眼周十全大补##天津微整形##北京微整形#...</td>\n",
       "      <td>[[2410, 2419], [2427, 2436], [3308, 3317], [33...</td>\n",
       "    </tr>\n",
       "    <tr>\n",
       "      <th>6</th>\n",
       "      <td>184</td>\n",
       "      <td>今年以来华熙生物科技股份有限公司新申请注册商标 2 件,截止目前公司共持有注册商标 6930...</td>\n",
       "      <td>[*塑妍萃*, 塑妍萃, 塑然雅, *塑然雅*, sculptra, *sculptra*]</td>\n",
       "      <td>[[70, 73], [152, 155], [304, 307]]</td>\n",
       "      <td>154</td>\n",
       "      <td>塑然雅</td>\n",
       "      <td>2025-02-10 00:00:00</td>\n",
       "      <td>美力周刊 | 创健医疗重组胶原蛋白获得美国市场准入许可、华熙生物提交“光影美学”等2件商标注...</td>\n",
       "      <td>美力周刊 | 创健医疗重组胶原蛋白获得美国市场准入许可、华熙生物提交“光影美学”等2件商标注...</td>\n",
       "      <td>3</td>\n",
       "      <td>今年以来华熙生物科技股份有限公司新申请注册商标 2 件,截止目前公司共持有注册商标 6930...</td>\n",
       "      <td>[[171, 180], [209, 218], [198, 207]]</td>\n",
       "    </tr>\n",
       "  </tbody>\n",
       "</table>\n",
       "</div>"
      ],
      "text/plain": [
       "  ent_id                                               text  \\\n",
       "0      8  而如今的她,看上去更像是【有能力把自己照顾的很好】。今年,乔雅登朔颜的上市给了晨晨一个重新获...   \n",
       "2      9  面部折叠线的塑造相当于基本框架的搭建,对于这部分的材料选择需选择支撑力特别强的再生材料(例如...   \n",
       "3      8  而如今的她,看上去更像是【有能力把自己照顾的很好】。今年,乔雅登朔颜的上市给了晨晨一个重新获...   \n",
       "5     58  内外轮廓固定+眼周+口周+额头#北京少女针眉弓##眼周十全大补##天津微整形##北京微整形#...   \n",
       "6    184  今年以来华熙生物科技股份有限公司新申请注册商标 2 件,截止目前公司共持有注册商标 6930...   \n",
       "\n",
       "                                                 kws  \\\n",
       "0  [*juvéderm*, *豐顏*, *喬1*, *喬2*, *喬3*, *喬4*, *喬5...   \n",
       "2  [*restylane*, *麗多*, *麗瑅*, *麗緹*, *唯瑅*, *唯緹*, *定...   \n",
       "3  [*juvéderm*, *豐顏*, *喬1*, *喬2*, *喬3*, *喬4*, *喬5...   \n",
       "5                                       [*薇旖美*, 薇旖美]   \n",
       "6     [*塑妍萃*, 塑妍萃, 塑然雅, *塑然雅*, sculptra, *sculptra*]   \n",
       "\n",
       "                                         target_locs  doc_id subject3  \\\n",
       "0                             [[29, 32], [146, 149]]      21      乔雅登   \n",
       "2                                       [[121, 123]]      24       瑞蓝   \n",
       "3                             [[29, 32], [146, 149]]      27      乔雅登   \n",
       "5  [[643, 646], [654, 657], [1529, 1532], [1540, ...     110      薇旖美   \n",
       "6                 [[70, 73], [152, 155], [304, 307]]     154      塑然雅   \n",
       "\n",
       "               pubdate                                            content  \\\n",
       "0             20250206  【文末好礼】韩女又流行上“港风”了?比裴珠泫更tvb的女人…,真没想到有一天能在韩国女团里,...   \n",
       "2             20250204  过年最不想面对的事……在朋友圈看到自己没P图的合照,过年根本就不敢刷朋友圈!!! \\n\\n年...   \n",
       "3             20250206  【文末好礼】韩女又流行上“港风”了?比裴珠泫更tvb的女人…,真没想到有一天能在韩国女团里,...   \n",
       "5  2025-02-22 00:00:00  🇰🇷 全面部少女感综合打造 现在biu晚上约会妥妥出片~内外轮廓固定+眼周+口周+额头#北京...   \n",
       "6  2025-02-10 00:00:00  美力周刊 | 创健医疗重组胶原蛋白获得美国市场准入许可、华熙生物提交“光影美学”等2件商标注...   \n",
       "\n",
       "                                            headline  num_sentence  \\\n",
       "0                     【文末好礼】韩女又流行上“港风”了?比裴珠泫更tvb的女人…             2   \n",
       "2                          过年最不想面对的事……在朋友圈看到自己没P图的合照             1   \n",
       "3                     【文末好礼】韩女又流行上“港风”了?比裴珠泫更tvb的女人…             2   \n",
       "5  🇰🇷 全面部少女感综合打造 现在biu晚上约会妥妥出片~内外轮廓固定+眼周+口周+额头#北京...             1   \n",
       "6  美力周刊 | 创健医疗重组胶原蛋白获得美国市场准入许可、华熙生物提交“光影美学”等2件商标注...             3   \n",
       "\n",
       "                                        norm_content  \\\n",
       "0  而如今的她,看上去更像是【有能力把自己照顾的很好】。今年,[unused1]朔颜的上市给了晨...   \n",
       "2  面部折叠线的塑造相当于基本框架的搭建,对于这部分的材料选择需选择支撑力特别强的再生材料(例如...   \n",
       "3  而如今的她,看上去更像是【有能力把自己照顾的很好】。今年,[unused1]朔颜的上市给了晨...   \n",
       "5  内外轮廓固定+眼周+口周+额头#北京少女针眉弓##眼周十全大补##天津微整形##北京微整形#...   \n",
       "6  今年以来华熙生物科技股份有限公司新申请注册商标 2 件,截止目前公司共持有注册商标 6930...   \n",
       "\n",
       "                                    norm_target_locs  \n",
       "0                           [[141, 150], [183, 192]]  \n",
       "2                                       [[338, 347]]  \n",
       "3                           [[141, 150], [183, 192]]  \n",
       "5  [[2410, 2419], [2427, 2436], [3308, 3317], [33...  \n",
       "6               [[171, 180], [209, 218], [198, 207]]  "
      ]
     },
     "execution_count": 40,
     "metadata": {},
     "output_type": "execute_result"
    }
   ],
   "source": [
    "df_subj_content1.head()"
   ]
  },
  {
   "cell_type": "code",
   "execution_count": 41,
   "id": "073c7743-1601-4418-a688-4c6a0d47c748",
   "metadata": {
    "tags": []
   },
   "outputs": [
    {
     "data": {
      "text/plain": [
       "{'ent_id': '8',\n",
       " 'text': '而如今的她,看上去更像是【有能力把自己照顾的很好】。今年,乔雅登朔颜的上市给了晨晨一个重新获得梦想中下颌的机会。 \\n\\n朔颜,这款专门针对下面部研发的玻尿酸产品,凭借它出色的支撑力和塑性能力,成为下颌轮廓新的首选。比如,下巴短小、下颌后缩、面部松弛下垂等,朔颜都能帮你重塑美丽下颌线。 \\n\\n作为乔雅登Vycross系列中透明质酸浓度、弹性模量和内聚力最高的产品,它能够提供强大的支撑力,能够更好的模拟骨骼的形态,承托住下面部的皮肉。 \\n\\n朔颜的塑形效果持久且稳定,能够立即看到明显的效果。',\n",
       " 'kws': ['*juvéderm*',\n",
       "  '*豐顏*',\n",
       "  '*喬1*',\n",
       "  '*喬2*',\n",
       "  '*喬3*',\n",
       "  '*喬4*',\n",
       "  '*喬5*',\n",
       "  '*喬亞登*',\n",
       "  '*喬雅登*',\n",
       "  '*喬雅登1號*',\n",
       "  '*喬雅登2號*',\n",
       "  '*喬雅登3號*',\n",
       "  '*喬雅登4號*',\n",
       "  '*喬雅登5號*',\n",
       "  '*極致*',\n",
       "  '*緹顏*',\n",
       "  '*質顏*',\n",
       "  '*雅緻*',\n",
       "  'juvederm',\n",
       "  'juvéderm',\n",
       "  'ultra',\n",
       "  'ultraplus',\n",
       "  'ultra|plus',\n",
       "  'volbella',\n",
       "  'volift',\n",
       "  'voluma',\n",
       "  '喬雅登'],\n",
       " 'target_locs': [[29, 32], [146, 149]],\n",
       " 'doc_id': 27,\n",
       " 'subject3': '乔雅登',\n",
       " 'pubdate': '20250206',\n",
       " 'content': '【文末好礼】韩女又流行上“港风”了?比裴珠泫更tvb的女人…,真没想到有一天能在韩国女团里,看到这样一位港风美女!!多年来一直引领亚洲审美潮流的韩系审美,最终也兜兜转转追逐上中式美学了么? \\n\\n黑皮、小内双、长中庭、鼻梁高挺、骨相立体清晰。 \\n\\n配上一头乌黑的长卷发,和大耳环,妥妥的tvb花旦脸。 \\n\\n175的超绝身材比例更是让他姐味十足,高级感拉满。 \\n\\n不仅脸港,名字更港,她就是黑厂新晋女团meovv的成员——李佳媛。 \\n\\n提到韩系审美,你们脑海中会浮现出什么?冷白皮、水光肌、低山根、大卧蚕…… \\n\\n然而,随着时代的变迁,韩系审美实际上也在悄然发生着变化。从早期的“幼态脸”到后来的“清冷美人”、“恶女风”,韩国女性对于美的追求逐渐从单一走向多元,但还未曾跳脱出对上述那些特征的偏爱。而李佳媛的出现,无疑是将这种多元化推向了一个新的高度。 \\n\\n李佳媛的风格在韩国娱乐圈中显得尤为独特。清晰的下颌线和立体的下颌角,展现了不同于传统韩系美女的力量感,更是让05年的她就拥有了港风美人的韵味。 \\n\\n近年来,韩系审美越来越注重女性的力量感,这种力量感目前大多体现在韩女对身材线条上的追求上。 \\n\\n大胆预测一下,这种面部的轮廓上的力量感——清晰的下颌线、立体的下颌角,不久就将会成为韩系审美的新风向。韩女也开始向着港风的不魅男、不讨好、高智感靠拢。 \\n\\n而下颌的建设之路,通常任重而道远。 \\n\\n刚刚大学毕业的晨晨,也是韩系美学的忠实拥护者,一直以来都对美有着独特的追求。然而,下巴后缩的问题让她从小就倍感困扰。圆顿的面部、模糊的下颌线,让她看起来略显土气,这与她心中理想的形象相去甚远。 \\n\\n为此她也尝试过带牙套,遗憾的是这对她来说并没有什么帮助,她的这种下巴后缩是骨性的,无法通过带牙套改变,所以她便把希望寄托在了医美上。 \\n\\n▲下巴后缩类型 \\n\\n从那开始,晨晨开始对医美产生了浓厚的兴趣,开始在网上研究各种重塑下颌的方式。然而,由于经济条件受限和对医美认知的不足,她走了多次弯路。Botox、相对便宜的玻尿酸,在网上随意寻找一个机构,甚至由于经济不支持,她无法注射足量,只打了一支。尽管付出了当时对她来说超负荷的金钱和努力,却都达不到她所想要的效果。 \\n\\n晨晨所走过的弯路,也是我们在重塑下颌时常常会遇到的问题。 \\n\\n提到下颌缘重塑,我们通常第一时间想到的手段是通过botox。很多妹妹也是看到别人的对比后,就迫不及待地去找医生做同款,最后发现却效果到自己脸上微乎其微,接着就认为是医生的操作问题。 \\n\\n实际上任何项目都是有适应范围的,就比如通过botox塑造下颌缘,首先不适合的就是肉肉脸的朋友们,因为botox能够改善的只是我们松弛下垂的颈阔肌,并没有减脂的效果,因此对于肉肉脸导致的下颌缘不清晰,效果并不明显。 \\n\\n对于肉肉脸,或是原生的下颌骨量缺失,实际上应该做加法,通过注射填充对下颌的骨容量进行一个补充。 \\n\\n相信听到这里,很多朋友们会担心“我的脸已经够园够胖了,还要做加法吗?”“填充会不会让我的脸更大? \\n\\n下颌线的Z射目的是为了清晰骨相,刻画出面部与颈部的折叠,能够使面部外轮廓分界更清晰。让我们的面部从下颌线开始向后折叠,视觉上反而会更显脸小。 \\n\\n提到下颌的注射,材料的选择也曾是一个无法真正逾越的难关。 \\n\\n❌ 部分材料分解速度快,注射后效果维持时间短,需要频繁补充注射。 \\n\\n❌ 硬度低,无法替代下颌缺失的骨量,稍微用力捏就会感觉到软软的。 \\n\\n❌ 塑性能力差,形状不尽如人意,时间长了还会下垂,变得又尖又假。 \\n\\n这些经历让晨晨深感失望,但她并没有放弃追求美的愿望。毕业后,晨晨凭借着自己对医美的热爱和研究,来到了她最向往的医美机构——凯思米。 \\n\\n当我看到她的第一眼时,只觉得她是个活泼可爱、喜气洋洋的小女孩,尽管身材已经足够苗条了,脸上依旧看起来圆圆的,让她还保留着学生时期的稚气。模糊后缩的下颌,让她缺少了一种力量感,看起来像是【被爸爸妈妈养的很好】。 \\n\\n而如今的她,看上去更像是【有能力把自己照顾的很好】。今年,乔雅登朔颜的上市给了晨晨一个重新获得梦想中下颌的机会。 \\n\\n朔颜,这款专门针对下面部研发的玻尿酸产品,凭借它出色的支撑力和塑性能力,成为下颌轮廓新的首选。比如,下巴短小、下颌后缩、面部松弛下垂等,朔颜都能帮你重塑美丽下颌线。 \\n\\n作为乔雅登Vycross系列中透明质酸浓度、弹性模量和内聚力最高的产品,它能够提供强大的支撑力,能够更好的模拟骨骼的形态,承托住下面部的皮肉。 \\n\\n朔颜的塑形效果持久且稳定,能够立即看到明显的效果。而且,它还具有抗形变和抗位移的能力,能够长时间维持住刚填完的形态。 \\n\\n朔颜的下颌削弱了晨晨的稚嫩感,取而代之的是一种精致感、力量感。它的硬度堪比假体,但同时又具有可逆性和含有0.3%的舒适注射过程,非常适合初试医美的妹妹们。 \\n\\n更重要的是,朔颜不仅能够塑造立体的下颌线,还能起到提升紧致的作用,有了下颌韧带的支撑,能够更好的承托住下垂松弛的面部皮肉,让面部看起来更加紧致、年轻。 \\n\\n爆改员工系列 \\n\\n拥有了超绝下颌线的晨晨,在工作中变得更加自信。立体清晰的下颌让她在工作中显得更加游刃有余,看上去更专业、更值得信赖。同时,这种自信也体现在她的笑容中。每当她从镜子里看到现在的自己,都会感到无比的开心和满足,这让她的笑容更加灿烂、更有感染力。 \\n\\n她也用这样的笑容传递着快乐和正能量,让每一位来到凯思米的顾客都能感受到这里的氛围和温度。 \\n\\n可以说,晨晨与凯思米是相互成就的,我们共同书写着一段关于美丽和梦想的传奇。 \\n\\n看完晨晨的故事,有没有解决你正纠结的问题呢?或者,你是否也有过类似的经历,愿意分享你的心得和体验? \\n\\n评论区留言,我们会选1个粉丝宝宝送【NORHOR 城市限定香氛】,5个粉丝宝宝送【海菲秀—迷你星耀黑相机包】',\n",
       " 'headline': '【文末好礼】韩女又流行上“港风”了?比裴珠泫更tvb的女人…',\n",
       " 'num_sentence': 2,\n",
       " 'norm_content': '而如今的她,看上去更像是【有能力把自己照顾的很好】。今年,[unused1]朔颜的上市给了晨晨一个重新获得梦想中下颌的机会。 \\n\\n朔颜,这款专门针对下面部研发的玻尿酸产品,凭借它出色的支撑力和塑性能力,成为下颌轮廓新的首选。比如,下巴短小、下颌后缩、面部松弛下垂等,朔颜都能帮你重塑美丽下颌线。 \\n\\n作为[unused1]Vycross系列中透明质酸浓度、弹性模量和内聚力最高的产品,它能够提供强大的支撑力,能够更好的模拟骨骼的形态,承托住下面部的皮肉。 \\n\\n朔颜的塑形效果持久且稳定,能够立即看到明显的效果。',\n",
       " 'norm_target_locs': [[141, 150], [183, 192]]}"
      ]
     },
     "execution_count": 41,
     "metadata": {},
     "output_type": "execute_result"
    }
   ],
   "source": [
    "info = df_subj_content1.head(5).to_dict(\"records\")[-3]\n",
    "info"
   ]
  },
  {
   "cell_type": "code",
   "execution_count": 55,
   "id": "6a198dec-368f-40b8-a207-10d3d0559fbf",
   "metadata": {
    "tags": []
   },
   "outputs": [
    {
     "data": {
      "text/plain": [
       "'乔雅登'"
      ]
     },
     "execution_count": 55,
     "metadata": {},
     "output_type": "execute_result"
    }
   ],
   "source": [
    "info['text'][29:32]"
   ]
  },
  {
   "cell_type": "markdown",
   "id": "e4a64431-d5f0-4365-9a5c-a435d6fc09db",
   "metadata": {},
   "source": [
    "# 主体情感打标"
   ]
  },
  {
   "cell_type": "markdown",
   "id": "4a548b5d-aedc-4cb2-89f9-666c94b244d1",
   "metadata": {},
   "source": [
    "## 通过apicaller异步打标"
   ]
  },
  {
   "cell_type": "code",
   "execution_count": 43,
   "id": "55349f85-33a4-45e1-8f42-156d4f5cb0e2",
   "metadata": {
    "tags": []
   },
   "outputs": [],
   "source": [
    "# target_senti_url = 'http://ess76.wisers.com:18780/sentiment/sentence'\n",
    "\n",
    "target_senti_url = 'http://aiapi.wisers.com/mc-target-sentiment-gpu-allergan/sentiment/sentence'\n",
    "target_senti_caller = APICaller(url=target_senti_url, method='POST', timeout=100, retry_attempt=10)"
   ]
  },
  {
   "cell_type": "code",
   "execution_count": 44,
   "id": "23e62fc7-67d8-41e2-9420-cfc7cf92e6ad",
   "metadata": {
    "tags": []
   },
   "outputs": [
    {
     "data": {
      "text/plain": [
       "(Index(['ent_id', 'text', 'kws', 'target_locs', 'doc_id', 'subject3', 'pubdate',\n",
       "        'content', 'headline', 'num_sentence', 'norm_content',\n",
       "        'norm_target_locs'],\n",
       "       dtype='object'),\n",
       " (75617, 12))"
      ]
     },
     "execution_count": 44,
     "metadata": {},
     "output_type": "execute_result"
    }
   ],
   "source": [
    "df_subj_content1.columns, df_subj_content1.shape"
   ]
  },
  {
   "cell_type": "code",
   "execution_count": 45,
   "id": "a296d1e0-b6ae-439c-a1a4-c9ff518c9e4d",
   "metadata": {
    "tags": []
   },
   "outputs": [
    {
     "data": {
      "text/plain": [
       "(75617, (75617, 12))"
      ]
     },
     "execution_count": 45,
     "metadata": {},
     "output_type": "execute_result"
    }
   ],
   "source": [
    "set(df_subj_content1['doc_id'].to_list()).__len__(), df_subj_content1.shape"
   ]
  },
  {
   "cell_type": "code",
   "execution_count": 46,
   "id": "b18518e6-e6cd-4966-904d-19093807ea3c",
   "metadata": {
    "tags": []
   },
   "outputs": [
    {
     "data": {
      "text/plain": [
       "(75617,\n",
       " {'json': {'docid': 21,\n",
       "   'text': '而如今的她,看上去更像是【有能力把自己照顾的很好】。今年,乔雅登朔颜的上市给了晨晨一个重新获得梦想中下颌的机会。 \\n\\n朔颜,这款专门针对下面部研发的玻尿酸产品,凭借它出色的支撑力和塑性能力,成为下颌轮廓新的首选。比如,下巴短小、下颌后缩、面部松弛下垂等,朔颜都能帮你重塑美丽下颌线。 \\n\\n作为乔雅登Vycross系列中透明质酸浓度、弹性模量和内聚力最高的产品,它能够提供强大的支撑力,能够更好的模拟骨骼的形态,承托住下面部的皮肉。 \\n\\n朔颜的塑形效果持久且稳定,能够立即看到明显的效果。',\n",
       "   'kw_idxs': [[29, 32], [146, 149]],\n",
       "   'text_idxs': [0, 243],\n",
       "   'profile': False}})"
      ]
     },
     "execution_count": 46,
     "metadata": {},
     "output_type": "execute_result"
    }
   ],
   "source": [
    "target_sent_request_json = [{\"json\": {\n",
    "        \"docid\": row['doc_id'],\n",
    "        \"text\": row['text'],\n",
    "        \"kw_idxs\": row['target_locs'],\n",
    "        \"text_idxs\": [0,len(row['text'])],\n",
    "        \"profile\": False\n",
    "    }\n",
    "} for index, row in df_subj_content1.iterrows()]\n",
    "target_sent_request_json.__len__(), target_sent_request_json[0]"
   ]
  },
  {
   "cell_type": "code",
   "execution_count": 47,
   "id": "90861a13-c90b-4b66-b18a-e8509eac81a4",
   "metadata": {
    "tags": []
   },
   "outputs": [],
   "source": [
    "target_senti_resp = target_senti_caller.call_batch_async(target_sent_request_json)"
   ]
  },
  {
   "cell_type": "code",
   "execution_count": 48,
   "id": "84336516-b16e-4a1d-8cd4-22e7138d87b1",
   "metadata": {
    "tags": []
   },
   "outputs": [
    {
     "data": {
      "text/plain": [
       "75598"
      ]
     },
     "execution_count": 48,
     "metadata": {},
     "output_type": "execute_result"
    }
   ],
   "source": [
    "target_senti_resp.success.__len__()"
   ]
  },
  {
   "cell_type": "code",
   "execution_count": 49,
   "id": "060b66ac-ae9a-41e0-9576-40ef289058ed",
   "metadata": {
    "tags": []
   },
   "outputs": [
    {
     "data": {
      "text/plain": [
       "(75598,\n",
       " 75617,\n",
       " {'status_code': 200,\n",
       "  'result': {'retCode': 'S',\n",
       "   'retInfo': 'OK',\n",
       "   'retData': {'score': 0.9649295210838318, 'label': 'positive'}}})"
      ]
     },
     "execution_count": 49,
     "metadata": {},
     "output_type": "execute_result"
    }
   ],
   "source": [
    "target_senti_resp.success.__len__(), target_sent_request_json.__len__(), target_senti_resp.success[0]"
   ]
  },
  {
   "cell_type": "code",
   "execution_count": 50,
   "id": "3920c245-1154-4161-ab84-be806e3c338e",
   "metadata": {
    "tags": []
   },
   "outputs": [],
   "source": [
    "succ_post = [item for idx, item in enumerate(target_sent_request_json) if idx not in target_senti_resp.fail]\n",
    "sentiment_tag_res = []\n",
    "for post, resp in zip(succ_post, target_senti_resp.success):\n",
    "    docid = post['json']['docid']\n",
    "    score = resp['result']['retData']['score']\n",
    "    label = resp['result']['retData']['label']\n",
    "    sentiment_tag_res.append(dict(doc_id=docid, label=label, score=score))"
   ]
  },
  {
   "cell_type": "code",
   "execution_count": 51,
   "id": "48ffbf76-9076-4fcc-9d4c-c0feea8ce9d5",
   "metadata": {
    "tags": []
   },
   "outputs": [
    {
     "data": {
      "text/plain": [
       "([0, 1, 2, 3, 4], (75598, 3))"
      ]
     },
     "execution_count": 51,
     "metadata": {},
     "output_type": "execute_result"
    }
   ],
   "source": [
    "data['doc_id'].to_list()[:5], pd.DataFrame(sentiment_tag_res).shape"
   ]
  },
  {
   "cell_type": "code",
   "execution_count": 52,
   "id": "004ad581-d596-4f8c-bab3-a197eaf1393a",
   "metadata": {
    "tags": []
   },
   "outputs": [
    {
     "data": {
      "text/plain": [
       "((96333, 55),\n",
       " label\n",
       " neutral     43966\n",
       " positive    26674\n",
       " negative     4958\n",
       " Name: count, dtype: int64)"
      ]
     },
     "execution_count": 52,
     "metadata": {},
     "output_type": "execute_result"
    }
   ],
   "source": [
    "data_tag_res = data.merge(pd.DataFrame(sentiment_tag_res), on='doc_id', how='left')\n",
    "data_tag_res.shape, data_tag_res['label'].value_counts()"
   ]
  },
  {
   "cell_type": "code",
   "execution_count": 53,
   "id": "222f7467-7b2d-40d6-b70f-9a098d873510",
   "metadata": {
    "tags": []
   },
   "outputs": [
    {
     "data": {
      "text/plain": [
       "(20735, 55)"
      ]
     },
     "execution_count": 53,
     "metadata": {},
     "output_type": "execute_result"
    }
   ],
   "source": [
    "data_tag_res[data_tag_res['label'].isna()].shape"
   ]
  },
  {
   "cell_type": "code",
   "execution_count": 54,
   "id": "59aa209d-4123-4ae8-a029-d890633a80e1",
   "metadata": {
    "tags": []
   },
   "outputs": [],
   "source": [
    "data_tag_res.to_excel(\"./data/202502-aller_2818brands&图像识别定稿--20250311打标结果.xlsx\", index=False)"
   ]
  },
  {
   "cell_type": "markdown",
   "id": "d2417190-28a5-4243-ab2d-ca1b1a8c2e69",
   "metadata": {},
   "source": [
    "## 通过一条一条循环遍历去调用"
   ]
  },
  {
   "cell_type": "code",
   "execution_count": 45,
   "id": "0ec94469-3f37-4450-ab82-485b59c9868a",
   "metadata": {
    "tags": []
   },
   "outputs": [
    {
     "data": {
      "text/plain": [
       "(109859, 0)"
      ]
     },
     "execution_count": 45,
     "metadata": {},
     "output_type": "execute_result"
    }
   ],
   "source": [
    "sentiment_tag_res.__len__(), fail_sentiment_tag_res.__len__()"
   ]
  },
  {
   "cell_type": "code",
   "execution_count": 46,
   "id": "f47f9c1e-8909-4c26-bb3a-af1faf366ca3",
   "metadata": {
    "tags": []
   },
   "outputs": [
    {
     "data": {
      "text/plain": [
       "((144204, 43),\n",
       " label\n",
       " neutral     71137\n",
       " positive    33215\n",
       " negative     5507\n",
       " Name: count, dtype: int64)"
      ]
     },
     "execution_count": 46,
     "metadata": {},
     "output_type": "execute_result"
    }
   ],
   "source": [
    "data_tag_res = data.merge(pd.DataFrame(sentiment_tag_res), on='doc_id', how='left')\n",
    "data_tag_res.shape, data_tag_res['label'].value_counts()"
   ]
  },
  {
   "cell_type": "code",
   "execution_count": 47,
   "id": "ecda041c-ca47-4b87-b423-ef294808e44e",
   "metadata": {
    "tags": []
   },
   "outputs": [
    {
     "data": {
      "text/html": [
       "<div>\n",
       "<style scoped>\n",
       "    .dataframe tbody tr th:only-of-type {\n",
       "        vertical-align: middle;\n",
       "    }\n",
       "\n",
       "    .dataframe tbody tr th {\n",
       "        vertical-align: top;\n",
       "    }\n",
       "\n",
       "    .dataframe thead th {\n",
       "        text-align: right;\n",
       "    }\n",
       "</style>\n",
       "<table border=\"1\" class=\"dataframe\">\n",
       "  <thead>\n",
       "    <tr style=\"text-align: right;\">\n",
       "      <th></th>\n",
       "      <th>doc_id</th>\n",
       "      <th>subject1</th>\n",
       "      <th>subject2</th>\n",
       "      <th>subject3</th>\n",
       "      <th>pubdate</th>\n",
       "      <th>quarter</th>\n",
       "      <th>pubcode</th>\n",
       "      <th>month</th>\n",
       "      <th>pubtype</th>\n",
       "      <th>pubname</th>\n",
       "      <th>...</th>\n",
       "      <th>topic2_score</th>\n",
       "      <th>数据来源</th>\n",
       "      <th>六社媒</th>\n",
       "      <th>账号水军 - 1是0否</th>\n",
       "      <th>内容水军 - 1是0否</th>\n",
       "      <th>内容水军概率值</th>\n",
       "      <th>origin_doc_id</th>\n",
       "      <th>content</th>\n",
       "      <th>score</th>\n",
       "      <th>label</th>\n",
       "    </tr>\n",
       "  </thead>\n",
       "  <tbody>\n",
       "    <tr>\n",
       "      <th>0</th>\n",
       "      <td>0</td>\n",
       "      <td>医美产品</td>\n",
       "      <td>玻尿酸</td>\n",
       "      <td>乔雅登</td>\n",
       "      <td>20240718</td>\n",
       "      <td>2024Q3</td>\n",
       "      <td>wm_xiaohongshucn_app</td>\n",
       "      <td>202407</td>\n",
       "      <td>APP</td>\n",
       "      <td>小红书 APP</td>\n",
       "      <td>...</td>\n",
       "      <td>0.044223</td>\n",
       "      <td>2818表</td>\n",
       "      <td>有</td>\n",
       "      <td>0.0</td>\n",
       "      <td>0.0</td>\n",
       "      <td>0.005851</td>\n",
       "      <td>fec06802990949e3459dd558c492f317</td>\n",
       "      <td>QYD为什么那么贵,用过的都知道,虽然相比其他BNS会贵,但物有所值。同样是BNS,为啥选Q...</td>\n",
       "      <td>0.990412</td>\n",
       "      <td>neutral</td>\n",
       "    </tr>\n",
       "    <tr>\n",
       "      <th>1</th>\n",
       "      <td>1</td>\n",
       "      <td>医美产品</td>\n",
       "      <td>玻尿酸</td>\n",
       "      <td>乔雅登</td>\n",
       "      <td>20240703</td>\n",
       "      <td>2024Q3</td>\n",
       "      <td>wm_xiaohongshucn_app</td>\n",
       "      <td>202407</td>\n",
       "      <td>APP</td>\n",
       "      <td>小红书 APP</td>\n",
       "      <td>...</td>\n",
       "      <td>0.185659</td>\n",
       "      <td>2818表</td>\n",
       "      <td>有</td>\n",
       "      <td>0.0</td>\n",
       "      <td>0.0</td>\n",
       "      <td>0.000080</td>\n",
       "      <td>38b00e662e174a3e25c80a6f5ed87639</td>\n",
       "      <td>国际美学导师👨‍⚕王晔博士7月亲诊日,👨‍⚕王晔博士7月坐诊限量预约中 医学博士/国际高级审...</td>\n",
       "      <td>0.986113</td>\n",
       "      <td>neutral</td>\n",
       "    </tr>\n",
       "    <tr>\n",
       "      <th>2</th>\n",
       "      <td>2</td>\n",
       "      <td>医美产品</td>\n",
       "      <td>玻尿酸</td>\n",
       "      <td>乔雅登</td>\n",
       "      <td>20240710</td>\n",
       "      <td>2024Q3</td>\n",
       "      <td>wm_xiaohongshucn_app</td>\n",
       "      <td>202407</td>\n",
       "      <td>APP</td>\n",
       "      <td>小红书 APP</td>\n",
       "      <td>...</td>\n",
       "      <td>0.000934</td>\n",
       "      <td>2818表</td>\n",
       "      <td>有</td>\n",
       "      <td>0.0</td>\n",
       "      <td>0.0</td>\n",
       "      <td>0.000975</td>\n",
       "      <td>a3120f74c6633708b51c732967504dd5</td>\n",
       "      <td>评委日记 |口周美学动态情绪美学,关于口周美学动态情绪美学,作为菁英医生,优雅艺术家评委,受...</td>\n",
       "      <td>0.976688</td>\n",
       "      <td>neutral</td>\n",
       "    </tr>\n",
       "    <tr>\n",
       "      <th>3</th>\n",
       "      <td>3</td>\n",
       "      <td>医美产品</td>\n",
       "      <td>玻尿酸</td>\n",
       "      <td>乔雅登</td>\n",
       "      <td>20240703</td>\n",
       "      <td>2024Q3</td>\n",
       "      <td>im_weixin</td>\n",
       "      <td>202407</td>\n",
       "      <td>微信</td>\n",
       "      <td>微信公众号</td>\n",
       "      <td>...</td>\n",
       "      <td>0.117871</td>\n",
       "      <td>2818表</td>\n",
       "      <td>无</td>\n",
       "      <td>0.0</td>\n",
       "      <td>0.0</td>\n",
       "      <td>0.000040</td>\n",
       "      <td>f6b4494ccb9057290b999ed3cc949104</td>\n",
       "      <td>乔雅登缇颜科普:技术介绍、产品优势和操作方法,乔雅登·缇颜,动态填充,弹性极佳,适中硬度和内...</td>\n",
       "      <td>0.957406</td>\n",
       "      <td>positive</td>\n",
       "    </tr>\n",
       "    <tr>\n",
       "      <th>4</th>\n",
       "      <td>4</td>\n",
       "      <td>医美产品</td>\n",
       "      <td>玻尿酸</td>\n",
       "      <td>乔雅登</td>\n",
       "      <td>20240729</td>\n",
       "      <td>2024Q3</td>\n",
       "      <td>im_weixin</td>\n",
       "      <td>202407</td>\n",
       "      <td>微信</td>\n",
       "      <td>微信公众号</td>\n",
       "      <td>...</td>\n",
       "      <td>0.168105</td>\n",
       "      <td>2818表</td>\n",
       "      <td>无</td>\n",
       "      <td>0.0</td>\n",
       "      <td>0.0</td>\n",
       "      <td>0.075176</td>\n",
       "      <td>e6bc25136476feef9a6f2b38859b9e9b</td>\n",
       "      <td>授课专家简介1:杭州整形医院 杨伟渊,杨伟渊 \\n\\n    副主任医师 \\n\\n    中...</td>\n",
       "      <td>0.990802</td>\n",
       "      <td>neutral</td>\n",
       "    </tr>\n",
       "  </tbody>\n",
       "</table>\n",
       "<p>5 rows × 43 columns</p>\n",
       "</div>"
      ],
      "text/plain": [
       "   doc_id subject1 subject2 subject3   pubdate quarter               pubcode  \\\n",
       "0       0     医美产品      玻尿酸      乔雅登  20240718  2024Q3  wm_xiaohongshucn_app   \n",
       "1       1     医美产品      玻尿酸      乔雅登  20240703  2024Q3  wm_xiaohongshucn_app   \n",
       "2       2     医美产品      玻尿酸      乔雅登  20240710  2024Q3  wm_xiaohongshucn_app   \n",
       "3       3     医美产品      玻尿酸      乔雅登  20240703  2024Q3             im_weixin   \n",
       "4       4     医美产品      玻尿酸      乔雅登  20240729  2024Q3             im_weixin   \n",
       "\n",
       "    month pubtype  pubname  ... topic2_score   数据来源 六社媒  账号水军 - 1是0否  \\\n",
       "0  202407     APP  小红书 APP  ...     0.044223  2818表   有          0.0   \n",
       "1  202407     APP  小红书 APP  ...     0.185659  2818表   有          0.0   \n",
       "2  202407     APP  小红书 APP  ...     0.000934  2818表   有          0.0   \n",
       "3  202407      微信    微信公众号  ...     0.117871  2818表   无          0.0   \n",
       "4  202407      微信    微信公众号  ...     0.168105  2818表   无          0.0   \n",
       "\n",
       "   内容水军 - 1是0否   内容水军概率值                     origin_doc_id  \\\n",
       "0          0.0  0.005851  fec06802990949e3459dd558c492f317   \n",
       "1          0.0  0.000080  38b00e662e174a3e25c80a6f5ed87639   \n",
       "2          0.0  0.000975  a3120f74c6633708b51c732967504dd5   \n",
       "3          0.0  0.000040  f6b4494ccb9057290b999ed3cc949104   \n",
       "4          0.0  0.075176  e6bc25136476feef9a6f2b38859b9e9b   \n",
       "\n",
       "                                             content     score     label  \n",
       "0  QYD为什么那么贵,用过的都知道,虽然相比其他BNS会贵,但物有所值。同样是BNS,为啥选Q...  0.990412   neutral  \n",
       "1  国际美学导师👨‍⚕王晔博士7月亲诊日,👨‍⚕王晔博士7月坐诊限量预约中 医学博士/国际高级审...  0.986113   neutral  \n",
       "2  评委日记 |口周美学动态情绪美学,关于口周美学动态情绪美学,作为菁英医生,优雅艺术家评委,受...  0.976688   neutral  \n",
       "3  乔雅登缇颜科普:技术介绍、产品优势和操作方法,乔雅登·缇颜,动态填充,弹性极佳,适中硬度和内...  0.957406  positive  \n",
       "4  授课专家简介1:杭州整形医院 杨伟渊,杨伟渊 \\n\\n    副主任医师 \\n\\n    中...  0.990802   neutral  \n",
       "\n",
       "[5 rows x 43 columns]"
      ]
     },
     "execution_count": 47,
     "metadata": {},
     "output_type": "execute_result"
    }
   ],
   "source": [
    "data_tag_res.head()"
   ]
  },
  {
   "cell_type": "code",
   "execution_count": 52,
   "id": "69e5951c-1ffd-4915-8dc5-1e8f81679b5d",
   "metadata": {
    "tags": []
   },
   "outputs": [
    {
     "data": {
      "text/plain": [
       "(label\n",
       " neutral     71137\n",
       " positive    33215\n",
       " negative     5507\n",
       " Name: count, dtype: int64,\n",
       " (34345, 43))"
      ]
     },
     "execution_count": 52,
     "metadata": {},
     "output_type": "execute_result"
    }
   ],
   "source": [
    "data_tag_res['label'].value_counts(), data_tag_res[data_tag_res['label'].isna()].shape"
   ]
  },
  {
   "cell_type": "code",
   "execution_count": 50,
   "id": "3a8f8ff1-c851-474f-a125-339bebbdc2ad",
   "metadata": {
    "tags": []
   },
   "outputs": [
    {
     "ename": "NameError",
     "evalue": "name 'test_json' is not defined",
     "output_type": "error",
     "traceback": [
      "\u001b[0;31m---------------------------------------------------------------------------\u001b[0m",
      "\u001b[0;31mNameError\u001b[0m                                 Traceback (most recent call last)",
      "\u001b[0;32m/tmp/ipykernel_98774/1625790651.py\u001b[0m in \u001b[0;36m<module>\u001b[0;34m\u001b[0m\n\u001b[1;32m      2\u001b[0m \u001b[0;32mimport\u001b[0m \u001b[0mre\u001b[0m\u001b[0;34m\u001b[0m\u001b[0;34m\u001b[0m\u001b[0m\n\u001b[1;32m      3\u001b[0m \u001b[0mdocid2no_include\u001b[0m \u001b[0;34m=\u001b[0m \u001b[0;34m[\u001b[0m\u001b[0;34m]\u001b[0m\u001b[0;34m\u001b[0m\u001b[0;34m\u001b[0m\u001b[0m\n\u001b[0;32m----> 4\u001b[0;31m \u001b[0;32mfor\u001b[0m \u001b[0mjs\u001b[0m \u001b[0;32min\u001b[0m \u001b[0mtest_json\u001b[0m\u001b[0;34m:\u001b[0m\u001b[0;34m\u001b[0m\u001b[0;34m\u001b[0m\u001b[0m\n\u001b[0m\u001b[1;32m      5\u001b[0m     \u001b[0mcontent\u001b[0m \u001b[0;34m=\u001b[0m \u001b[0mstr\u001b[0m\u001b[0;34m(\u001b[0m\u001b[0mjs\u001b[0m\u001b[0;34m[\u001b[0m\u001b[0;34m'headline'\u001b[0m\u001b[0;34m]\u001b[0m\u001b[0;34m)\u001b[0m \u001b[0;34m+\u001b[0m \u001b[0;34m\",\"\u001b[0m \u001b[0;34m+\u001b[0m \u001b[0mstr\u001b[0m\u001b[0;34m(\u001b[0m\u001b[0mjs\u001b[0m\u001b[0;34m[\u001b[0m\u001b[0;34m'body'\u001b[0m\u001b[0;34m]\u001b[0m\u001b[0;34m)\u001b[0m\u001b[0;34m\u001b[0m\u001b[0;34m\u001b[0m\u001b[0m\n\u001b[1;32m      6\u001b[0m     \u001b[0;32mif\u001b[0m \u001b[0mjs\u001b[0m\u001b[0;34m[\u001b[0m\u001b[0;34m'subject3'\u001b[0m\u001b[0;34m]\u001b[0m\u001b[0;34m.\u001b[0m\u001b[0mupper\u001b[0m\u001b[0;34m(\u001b[0m\u001b[0;34m)\u001b[0m \u001b[0;32min\u001b[0m \u001b[0mprocessed_subject_keyword_dict\u001b[0m\u001b[0;34m:\u001b[0m\u001b[0;34m\u001b[0m\u001b[0;34m\u001b[0m\u001b[0m\n",
      "\u001b[0;31mNameError\u001b[0m: name 'test_json' is not defined"
     ]
    }
   ],
   "source": [
    "# # \n",
    "import re\n",
    "docid2no_include = []\n",
    "for js in test_json:\n",
    "    content = str(js['headline']) + \",\" + str(js['body'])\n",
    "    if js['subject3'].upper() in processed_subject_keyword_dict:\n",
    "        keywords = processed_subject_keyword_dict[js['subject3'].upper()]\n",
    "        print(js['doc_id'], keywords, content)\n",
    "        sign_list = []\n",
    "        for word in keywords[0]['kws']:\n",
    "            # print(re.findall('[\\u4e00-\\u9fa5]+', word))\n",
    "            for wd in re.findall('[\\u4e00-\\u9fa5]+', word):\n",
    "                sign_list.append(wd in content)\n",
    "        docid2no_include.append({\"doc_id\": js['doc_id'],  \"sign\":  any(sign_list)})\n",
    "        "
   ]
  },
  {
   "cell_type": "code",
   "execution_count": null,
   "id": "01228670-0867-49ee-a25c-2ee80711c0db",
   "metadata": {
    "tags": []
   },
   "outputs": [],
   "source": [
    "pd.DataFrame(docid2no_include)['sign'].value_counts()"
   ]
  },
  {
   "cell_type": "markdown",
   "id": "64e60823-a173-4e6e-bc00-3e78aad46d16",
   "metadata": {
    "tags": []
   },
   "source": [
    "# 使用apicaller并行工具包调用，未测试"
   ]
  },
  {
   "cell_type": "code",
   "execution_count": 77,
   "id": "433041a5-b4d6-4c53-908c-7e654c5cf8c7",
   "metadata": {},
   "outputs": [],
   "source": [
    "label_map = {\n",
    "    'negative': -1, \n",
    "    'neutral': 0, \n",
    "    'positive': 1\n",
    "}\n"
   ]
  },
  {
   "cell_type": "code",
   "execution_count": null,
   "id": "5d352194-954c-42d3-a24e-d73f2a37ff5b",
   "metadata": {},
   "outputs": [],
   "source": [
    "senti_resp  = target_senti_caller.call_batch_async(senti_post_data, progress=True)"
   ]
  },
  {
   "cell_type": "code",
   "execution_count": null,
   "id": "2aa0397c-e344-4d4b-a5dd-eed77f1fd40d",
   "metadata": {},
   "outputs": [],
   "source": [
    "succ_post = [item['json'] for idx, item in enumerate(senti_post_data) if idx not in senti_resp.fail ]\n",
    "succ_post.__len__()"
   ]
  },
  {
   "cell_type": "code",
   "execution_count": null,
   "id": "99d67b66-f5ce-4dd1-87a3-db8e3d40fe43",
   "metadata": {},
   "outputs": [],
   "source": [
    "dict_senti_res = {}\n",
    "for post, resp in zip(succ_post, senti_resp.success):\n",
    "    iid = post['id']\n",
    "    result = resp['result']['retData']['label']\n",
    "    dict_senti_res[iid] = label_map[result]"
   ]
  },
  {
   "cell_type": "code",
   "execution_count": null,
   "id": "549e5315-8d46-4814-b94e-e4353c084eeb",
   "metadata": {},
   "outputs": [],
   "source": [
    "sentences_df['sentiment'] = sentences_df['index'].apply(lambda x: dict_senti_res[x] if x in dict_senti_res else None)\n",
    "sentences_df['sentiment'].value_counts()"
   ]
  },
  {
   "cell_type": "markdown",
   "id": "01c0b79f-49b4-4c5c-86e7-4a37cbe91f50",
   "metadata": {
    "jp-MarkdownHeadingCollapsed": true,
    "tags": []
   },
   "source": [
    "# 将正负中三种情感整合成负面以及非负两类"
   ]
  },
  {
   "cell_type": "code",
   "execution_count": 84,
   "id": "053884d7-bae4-46b9-98bd-65544d364b52",
   "metadata": {},
   "outputs": [],
   "source": [
    "def get_combine_sentiment_tag(data):\n",
    "    content_sentiment_tag_res = {}\n",
    "    for doc_id, group_df in data.groupby(\"doc_id\"):\n",
    "        multi_sentence_sentiment = set(group_df['label'].tolist())\n",
    "        if group_df.shape[0] > 5:\n",
    "            print(doc_id, multi_sentence_sentiment)\n",
    "        if \"negative\" in multi_sentence_sentiment:\n",
    "            content_sentiment_tag_res[doc_id] = \"负面\"\n",
    "        elif \"positive\" in multi_sentence_sentiment or \"neutral\" in multi_sentence_sentiment:\n",
    "            content_sentiment_tag_res[doc_id] = \"非负\"\n",
    "        else:\n",
    "            content_sentiment_tag_res[doc_id] = None\n",
    "    return content_sentiment_tag_res"
   ]
  },
  {
   "cell_type": "code",
   "execution_count": 85,
   "id": "bf350268-9287-4a81-a4bb-1d233db8779f",
   "metadata": {},
   "outputs": [],
   "source": [
    "docid2sentiment = get_combine_sentiment_tag(data_tag_res)"
   ]
  },
  {
   "cell_type": "code",
   "execution_count": 86,
   "id": "5b2f6dbf-a391-4ab2-839c-91dc3e4f37c4",
   "metadata": {},
   "outputs": [],
   "source": [
    "data_tag_res['AI_sentiment_tag'] = data_tag_res['doc_id'].map(lambda x: docid2sentiment[x] if x in docid2sentiment else None)"
   ]
  },
  {
   "cell_type": "code",
   "execution_count": 87,
   "id": "ad5cf622-2b8c-4fe1-a9ec-bf9d118a8f94",
   "metadata": {
    "tags": []
   },
   "outputs": [],
   "source": [
    "import warnings\n",
    "warnings.filterwarnings(\"ignore\")\n",
    "data_tag_res.to_excel(\"艾尔建202403打标结果.xlsx\", index=False)"
   ]
  },
  {
   "cell_type": "code",
   "execution_count": 88,
   "id": "5b9da655-a347-418c-8cae-3f5bf8042876",
   "metadata": {},
   "outputs": [
    {
     "data": {
      "text/plain": [
       "(20761, 35)"
      ]
     },
     "execution_count": 88,
     "metadata": {},
     "output_type": "execute_result"
    }
   ],
   "source": [
    "data_tag_res[data_tag_res['AI_sentiment_tag'].isna()].shape"
   ]
  },
  {
   "cell_type": "code",
   "execution_count": 89,
   "id": "772d5433-0fd7-4ea5-948e-a968106ce887",
   "metadata": {
    "tags": []
   },
   "outputs": [
    {
     "data": {
      "text/plain": [
       "(84599, 35)"
      ]
     },
     "execution_count": 89,
     "metadata": {},
     "output_type": "execute_result"
    }
   ],
   "source": [
    "data_tag_res.shape"
   ]
  },
  {
   "cell_type": "code",
   "execution_count": 93,
   "id": "86f822d8-f16a-473f-afe2-bf669013abec",
   "metadata": {
    "tags": []
   },
   "outputs": [
    {
     "data": {
      "text/html": [
       "<div>\n",
       "<style scoped>\n",
       "    .dataframe tbody tr th:only-of-type {\n",
       "        vertical-align: middle;\n",
       "    }\n",
       "\n",
       "    .dataframe tbody tr th {\n",
       "        vertical-align: top;\n",
       "    }\n",
       "\n",
       "    .dataframe thead th {\n",
       "        text-align: right;\n",
       "    }\n",
       "</style>\n",
       "<table border=\"1\" class=\"dataframe\">\n",
       "  <thead>\n",
       "    <tr style=\"text-align: right;\">\n",
       "      <th></th>\n",
       "      <th>doc_id</th>\n",
       "      <th>subject1</th>\n",
       "      <th>subject2</th>\n",
       "      <th>subject3</th>\n",
       "      <th>pubdate</th>\n",
       "      <th>quarter</th>\n",
       "      <th>pubcode</th>\n",
       "      <th>month</th>\n",
       "      <th>pubtype</th>\n",
       "      <th>pubname</th>\n",
       "      <th>...</th>\n",
       "      <th>influence_cnt</th>\n",
       "      <th>koc_type_check</th>\n",
       "      <th>uid</th>\n",
       "      <th>body</th>\n",
       "      <th>pubdate_full</th>\n",
       "      <th>origin_doc_id</th>\n",
       "      <th>content</th>\n",
       "      <th>score</th>\n",
       "      <th>label</th>\n",
       "      <th>AI_sentiment_tag</th>\n",
       "    </tr>\n",
       "  </thead>\n",
       "  <tbody>\n",
       "    <tr>\n",
       "      <th>1</th>\n",
       "      <td>1</td>\n",
       "      <td>医美产品</td>\n",
       "      <td>玻尿酸</td>\n",
       "      <td>菲洛嘉</td>\n",
       "      <td>2024-03-14</td>\n",
       "      <td>2024Q1</td>\n",
       "      <td>bg_m_sinacn</td>\n",
       "      <td>202403</td>\n",
       "      <td>C</td>\n",
       "      <td>新浪微博</td>\n",
       "      <td>...</td>\n",
       "      <td>17</td>\n",
       "      <td>医生</td>\n",
       "      <td>NaN</td>\n",
       "      <td>@FILLMED菲欧曼医学 #fillmed菲欧曼# [上海·思南公馆](http://t....</td>\n",
       "      <td>2024-03-14 18:15:41</td>\n",
       "      <td>5857035c2b63701b0eec880a58eea1c1</td>\n",
       "      <td>在《繁花》的世界里,时间是一位细腻的画家,以无数的色彩和线条,勾勒出生命的厚重与轻盈。菲欧曼...</td>\n",
       "      <td>0.899018</td>\n",
       "      <td>positive</td>\n",
       "      <td>非负</td>\n",
       "    </tr>\n",
       "  </tbody>\n",
       "</table>\n",
       "<p>1 rows × 35 columns</p>\n",
       "</div>"
      ],
      "text/plain": [
       "   doc_id subject1 subject2 subject3    pubdate quarter      pubcode   month  \\\n",
       "1       1     医美产品      玻尿酸      菲洛嘉 2024-03-14  2024Q1  bg_m_sinacn  202403   \n",
       "\n",
       "  pubtype pubname  ... influence_cnt koc_type_check  uid  \\\n",
       "1       C    新浪微博  ...            17             医生  NaN   \n",
       "\n",
       "                                                body        pubdate_full  \\\n",
       "1  @FILLMED菲欧曼医学 #fillmed菲欧曼# [上海·思南公馆](http://t.... 2024-03-14 18:15:41   \n",
       "\n",
       "                      origin_doc_id  \\\n",
       "1  5857035c2b63701b0eec880a58eea1c1   \n",
       "\n",
       "                                             content     score     label  \\\n",
       "1  在《繁花》的世界里,时间是一位细腻的画家,以无数的色彩和线条,勾勒出生命的厚重与轻盈。菲欧曼...  0.899018  positive   \n",
       "\n",
       "   AI_sentiment_tag  \n",
       "1                非负  \n",
       "\n",
       "[1 rows x 35 columns]"
      ]
     },
     "execution_count": 93,
     "metadata": {},
     "output_type": "execute_result"
    }
   ],
   "source": [
    "data_tag_res[data_tag_res['origin_doc_id'] == \"5857035c2b63701b0eec880a58eea1c1\"].head()"
   ]
  }
 ],
 "metadata": {
  "kernelspec": {
   "display_name": "Python 3 (ipykernel)",
   "language": "python",
   "name": "python3"
  },
  "language_info": {
   "codemirror_mode": {
    "name": "ipython",
    "version": 3
   },
   "file_extension": ".py",
   "mimetype": "text/x-python",
   "name": "python",
   "nbconvert_exporter": "python",
   "pygments_lexer": "ipython3",
   "version": "3.8.12"
  }
 },
 "nbformat": 4,
 "nbformat_minor": 5
}
